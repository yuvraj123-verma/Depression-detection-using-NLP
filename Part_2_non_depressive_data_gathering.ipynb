{
 "cells": [
  {
   "cell_type": "markdown",
   "metadata": {
    "id": "OzUyeijpsicV"
   },
   "source": [
    "## Collecting (mostly) Non-Depressive data from Multiple Sources\n",
    "\n",
    "Here we try to get some neutral as well as emotional dat from the competition (SemEval-2018 Task 1: Affect in Tweets (AIT-2018))\n",
    "(https://competitions.codalab.org/competitions/17751#learn_the_details)\n",
    "\n",
    "There are various subtasks and datasets. We decided to use the one with annotated Emotional Intensity, which is of Gold standard. This will allow us to be more specific about the type and range of emotions to include in our dataset, and more confident of the depth of its emotional content since it has been professionally annotated.\n",
    "\n",
    "This notebook shows our analytical process in making the decision for inclusion. We try to find distinguishable patterns for each category in order to draw generalisaton based on their intensity score."
   ]
  },
  {
   "cell_type": "code",
   "execution_count": null,
   "metadata": {
    "colab": {
     "base_uri": "https://localhost:8080/"
    },
    "id": "wpzGPMNLtFeN",
    "outputId": "4e454f59-ee0d-4552-cad8-9309ce6633fe"
   },
   "outputs": [
    {
     "name": "stdout",
     "output_type": "stream",
     "text": [
      "Drive already mounted at /content/drive; to attempt to forcibly remount, call drive.mount(\"/content/drive\", force_remount=True).\n"
     ]
    }
   ],
   "source": [
    "from google.colab import drive\n",
    "drive.mount('/content/drive')"
   ]
  },
  {
   "cell_type": "markdown",
   "metadata": {
    "id": "DGYwVi2Rsich"
   },
   "source": [
    "## 1. Load Data"
   ]
  },
  {
   "cell_type": "code",
   "execution_count": null,
   "metadata": {
    "id": "sDqcJwmpsicj"
   },
   "outputs": [],
   "source": [
    "import numpy as np\n",
    "import pandas as pd"
   ]
  },
  {
   "cell_type": "code",
   "execution_count": null,
   "metadata": {
    "id": "C-Uup48-sick"
   },
   "outputs": [],
   "source": [
    "import matplotlib.pyplot as plt"
   ]
  },
  {
   "cell_type": "code",
   "execution_count": null,
   "metadata": {
    "id": "Y1BKQ1tVsick"
   },
   "outputs": [],
   "source": [
    "df_anger = pd.read_csv(\"/content/drive/MyDrive/Dataset1/depression_data/2018-EI-reg-En-anger-test-gold.txt\", delimiter=\"\\t\")\n",
    "df_fear = pd.read_csv(\"/content/drive/MyDrive/Dataset1/depression_data/2018-EI-reg-En-fear-test-gold.txt\", delimiter=\"\\t\")\n",
    "df_joy = pd.read_csv(\"/content/drive/MyDrive/Dataset1/depression_data/2018-EI-reg-En-joy-test-gold.txt\", delimiter=\"\\t\")\n",
    "df_sadness = pd.read_csv(\"/content/drive/MyDrive/Dataset1/depression_data/2018-EI-reg-En-sadness-test-gold.txt\", delimiter=\"\\t\")"
   ]
  },
  {
   "cell_type": "code",
   "execution_count": null,
   "metadata": {
    "colab": {
     "base_uri": "https://localhost:8080/"
    },
    "id": "2b8fX9GIsicl",
    "outputId": "4678c18d-7178-41ea-934c-7fbec1980372"
   },
   "outputs": [
    {
     "name": "stderr",
     "output_type": "stream",
     "text": [
      "/usr/local/lib/python3.7/dist-packages/ipykernel_launcher.py:1: FutureWarning: Passing a negative integer is deprecated in version 1.0 and will not be supported in future version. Instead, use None to not limit the column width.\n",
      "  \"\"\"Entry point for launching an IPython kernel.\n"
     ]
    }
   ],
   "source": [
    "pd.set_option('display.max_colwidth', -1)"
   ]
  },
  {
   "cell_type": "code",
   "execution_count": null,
   "metadata": {
    "colab": {
     "base_uri": "https://localhost:8080/",
     "height": 210
    },
    "id": "BpfC5Ybesicl",
    "outputId": "f9566d7c-3614-409f-cc24-57af516561d1"
   },
   "outputs": [
    {
     "data": {
      "text/html": [
       "<div>\n",
       "<style scoped>\n",
       "    .dataframe tbody tr th:only-of-type {\n",
       "        vertical-align: middle;\n",
       "    }\n",
       "\n",
       "    .dataframe tbody tr th {\n",
       "        vertical-align: top;\n",
       "    }\n",
       "\n",
       "    .dataframe thead th {\n",
       "        text-align: right;\n",
       "    }\n",
       "</style>\n",
       "<table border=\"1\" class=\"dataframe\">\n",
       "  <thead>\n",
       "    <tr style=\"text-align: right;\">\n",
       "      <th></th>\n",
       "      <th>ID</th>\n",
       "      <th>Tweet</th>\n",
       "      <th>Affect Dimension</th>\n",
       "      <th>Intensity Score</th>\n",
       "    </tr>\n",
       "  </thead>\n",
       "  <tbody>\n",
       "    <tr>\n",
       "      <th>0</th>\n",
       "      <td>2018-En-02328</td>\n",
       "      <td>@PageShhh1 I know you mean well but I'm offended. Prick.</td>\n",
       "      <td>anger</td>\n",
       "      <td>0.734</td>\n",
       "    </tr>\n",
       "    <tr>\n",
       "      <th>1</th>\n",
       "      <td>2018-En-02617</td>\n",
       "      <td>Let go of resentment, it will hold you back, do not worry about what could of been, what is to come is what matters.</td>\n",
       "      <td>anger</td>\n",
       "      <td>0.422</td>\n",
       "    </tr>\n",
       "    <tr>\n",
       "      <th>2</th>\n",
       "      <td>2018-En-01021</td>\n",
       "      <td>No, I'm not 'depressed because of the weather,' I'm depressed because I have #depression #sicknotweak</td>\n",
       "      <td>anger</td>\n",
       "      <td>0.663</td>\n",
       "    </tr>\n",
       "  </tbody>\n",
       "</table>\n",
       "</div>"
      ],
      "text/plain": [
       "              ID  ... Intensity Score\n",
       "0  2018-En-02328  ...  0.734         \n",
       "1  2018-En-02617  ...  0.422         \n",
       "2  2018-En-01021  ...  0.663         \n",
       "\n",
       "[3 rows x 4 columns]"
      ]
     },
     "execution_count": 28,
     "metadata": {
      "tags": []
     },
     "output_type": "execute_result"
    }
   ],
   "source": [
    "df_anger.head(3)"
   ]
  },
  {
   "cell_type": "code",
   "execution_count": null,
   "metadata": {
    "colab": {
     "base_uri": "https://localhost:8080/",
     "height": 210
    },
    "id": "LYk75Kdesicn",
    "outputId": "82a4d8bc-c588-4e37-b1f9-3ea2e7d3a9b3"
   },
   "outputs": [
    {
     "data": {
      "text/html": [
       "<div>\n",
       "<style scoped>\n",
       "    .dataframe tbody tr th:only-of-type {\n",
       "        vertical-align: middle;\n",
       "    }\n",
       "\n",
       "    .dataframe tbody tr th {\n",
       "        vertical-align: top;\n",
       "    }\n",
       "\n",
       "    .dataframe thead th {\n",
       "        text-align: right;\n",
       "    }\n",
       "</style>\n",
       "<table border=\"1\" class=\"dataframe\">\n",
       "  <thead>\n",
       "    <tr style=\"text-align: right;\">\n",
       "      <th></th>\n",
       "      <th>ID</th>\n",
       "      <th>Tweet</th>\n",
       "      <th>Affect Dimension</th>\n",
       "      <th>Intensity Score</th>\n",
       "    </tr>\n",
       "  </thead>\n",
       "  <tbody>\n",
       "    <tr>\n",
       "      <th>0</th>\n",
       "      <td>2018-En-02626</td>\n",
       "      <td>@EdmundPAdamus That's the horrific irony; while we 'cleanse' society of moral value, a new religion will rise up &amp;amp; fill the gap - unhindered</td>\n",
       "      <td>fear</td>\n",
       "      <td>0.596</td>\n",
       "    </tr>\n",
       "    <tr>\n",
       "      <th>1</th>\n",
       "      <td>2018-En-00320</td>\n",
       "      <td>@TuckerCarlson @krauthammer @FoxNews They always need the drama and a fight to feel adaquate. Sad power is so insecure!!!</td>\n",
       "      <td>fear</td>\n",
       "      <td>0.533</td>\n",
       "    </tr>\n",
       "    <tr>\n",
       "      <th>2</th>\n",
       "      <td>2018-En-03973</td>\n",
       "      <td>@executivegoth I tried a free Alpha trial to watch #dread and I'm sold. Worth the subscription alone. You all are incredible!</td>\n",
       "      <td>fear</td>\n",
       "      <td>0.179</td>\n",
       "    </tr>\n",
       "  </tbody>\n",
       "</table>\n",
       "</div>"
      ],
      "text/plain": [
       "              ID  ... Intensity Score\n",
       "0  2018-En-02626  ...  0.596         \n",
       "1  2018-En-00320  ...  0.533         \n",
       "2  2018-En-03973  ...  0.179         \n",
       "\n",
       "[3 rows x 4 columns]"
      ]
     },
     "execution_count": 29,
     "metadata": {
      "tags": []
     },
     "output_type": "execute_result"
    }
   ],
   "source": [
    "df_fear.head(3)"
   ]
  },
  {
   "cell_type": "code",
   "execution_count": null,
   "metadata": {
    "colab": {
     "base_uri": "https://localhost:8080/",
     "height": 210
    },
    "id": "vPWyq7CXsico",
    "outputId": "57fff4a3-f7b7-4077-9405-c312daa44ae7"
   },
   "outputs": [
    {
     "data": {
      "text/html": [
       "<div>\n",
       "<style scoped>\n",
       "    .dataframe tbody tr th:only-of-type {\n",
       "        vertical-align: middle;\n",
       "    }\n",
       "\n",
       "    .dataframe tbody tr th {\n",
       "        vertical-align: top;\n",
       "    }\n",
       "\n",
       "    .dataframe thead th {\n",
       "        text-align: right;\n",
       "    }\n",
       "</style>\n",
       "<table border=\"1\" class=\"dataframe\">\n",
       "  <thead>\n",
       "    <tr style=\"text-align: right;\">\n",
       "      <th></th>\n",
       "      <th>ID</th>\n",
       "      <th>Tweet</th>\n",
       "      <th>Affect Dimension</th>\n",
       "      <th>Intensity Score</th>\n",
       "    </tr>\n",
       "  </thead>\n",
       "  <tbody>\n",
       "    <tr>\n",
       "      <th>0</th>\n",
       "      <td>2018-En-00290</td>\n",
       "      <td>People are truly #amazing. #inspiring day</td>\n",
       "      <td>joy</td>\n",
       "      <td>0.712</td>\n",
       "    </tr>\n",
       "    <tr>\n",
       "      <th>1</th>\n",
       "      <td>2018-En-03093</td>\n",
       "      <td>What are some good #funny #entertaining #interesting accounts I should follow ? My twitter is dry</td>\n",
       "      <td>joy</td>\n",
       "      <td>0.339</td>\n",
       "    </tr>\n",
       "    <tr>\n",
       "      <th>2</th>\n",
       "      <td>2018-En-00588</td>\n",
       "      <td>@NoahWebHouse A review of my book faulted me for spending so much time on Webster's introductory front matter. But I had to, #brilliant!</td>\n",
       "      <td>joy</td>\n",
       "      <td>0.533</td>\n",
       "    </tr>\n",
       "  </tbody>\n",
       "</table>\n",
       "</div>"
      ],
      "text/plain": [
       "              ID  ... Intensity Score\n",
       "0  2018-En-00290  ...  0.712         \n",
       "1  2018-En-03093  ...  0.339         \n",
       "2  2018-En-00588  ...  0.533         \n",
       "\n",
       "[3 rows x 4 columns]"
      ]
     },
     "execution_count": 30,
     "metadata": {
      "tags": []
     },
     "output_type": "execute_result"
    }
   ],
   "source": [
    "df_joy.head(3)"
   ]
  },
  {
   "cell_type": "code",
   "execution_count": null,
   "metadata": {
    "colab": {
     "base_uri": "https://localhost:8080/",
     "height": 210
    },
    "id": "640gSJZHsico",
    "outputId": "5fefbb35-9b54-41f6-a5d3-25640a45c6c1"
   },
   "outputs": [
    {
     "data": {
      "text/html": [
       "<div>\n",
       "<style scoped>\n",
       "    .dataframe tbody tr th:only-of-type {\n",
       "        vertical-align: middle;\n",
       "    }\n",
       "\n",
       "    .dataframe tbody tr th {\n",
       "        vertical-align: top;\n",
       "    }\n",
       "\n",
       "    .dataframe thead th {\n",
       "        text-align: right;\n",
       "    }\n",
       "</style>\n",
       "<table border=\"1\" class=\"dataframe\">\n",
       "  <thead>\n",
       "    <tr style=\"text-align: right;\">\n",
       "      <th></th>\n",
       "      <th>ID</th>\n",
       "      <th>Tweet</th>\n",
       "      <th>Affect Dimension</th>\n",
       "      <th>Intensity Score</th>\n",
       "    </tr>\n",
       "  </thead>\n",
       "  <tbody>\n",
       "    <tr>\n",
       "      <th>0</th>\n",
       "      <td>2018-En-03239</td>\n",
       "      <td>@TerraJole is a bully.  plain and simple.</td>\n",
       "      <td>sadness</td>\n",
       "      <td>0.550</td>\n",
       "    </tr>\n",
       "    <tr>\n",
       "      <th>1</th>\n",
       "      <td>2018-En-02839</td>\n",
       "      <td>@LondonEconomic Sometimes our judiciary just leaves you breathless and speechless.</td>\n",
       "      <td>sadness</td>\n",
       "      <td>0.521</td>\n",
       "    </tr>\n",
       "    <tr>\n",
       "      <th>2</th>\n",
       "      <td>2018-En-01035</td>\n",
       "      <td>#pause You gotta luv March Madness. Mad?? More like #upset</td>\n",
       "      <td>sadness</td>\n",
       "      <td>0.525</td>\n",
       "    </tr>\n",
       "  </tbody>\n",
       "</table>\n",
       "</div>"
      ],
      "text/plain": [
       "              ID  ... Intensity Score\n",
       "0  2018-En-03239  ...  0.550         \n",
       "1  2018-En-02839  ...  0.521         \n",
       "2  2018-En-01035  ...  0.525         \n",
       "\n",
       "[3 rows x 4 columns]"
      ]
     },
     "execution_count": 31,
     "metadata": {
      "tags": []
     },
     "output_type": "execute_result"
    }
   ],
   "source": [
    "df_sadness.head(3)"
   ]
  },
  {
   "cell_type": "code",
   "execution_count": null,
   "metadata": {
    "colab": {
     "base_uri": "https://localhost:8080/"
    },
    "id": "vlMUmdSVsicp",
    "outputId": "ab700e54-c865-408b-c28c-0ef50f1f98fc"
   },
   "outputs": [
    {
     "data": {
      "text/plain": [
       "(17939, 17923, 18042, 17912)"
      ]
     },
     "execution_count": 32,
     "metadata": {
      "tags": []
     },
     "output_type": "execute_result"
    }
   ],
   "source": [
    "len(df_anger), len(df_fear), len(df_joy), len(df_sadness)"
   ]
  },
  {
   "cell_type": "code",
   "execution_count": null,
   "metadata": {
    "colab": {
     "base_uri": "https://localhost:8080/"
    },
    "id": "2QKs-f84sicq",
    "outputId": "07425b59-2a2b-4b9f-c634-714b3633126c"
   },
   "outputs": [
    {
     "data": {
      "text/plain": [
       "Index(['ID', 'Tweet', 'Affect Dimension', 'Intensity Score'], dtype='object')"
      ]
     },
     "execution_count": 33,
     "metadata": {
      "tags": []
     },
     "output_type": "execute_result"
    }
   ],
   "source": [
    "df_anger.columns"
   ]
  },
  {
   "cell_type": "code",
   "execution_count": null,
   "metadata": {
    "colab": {
     "base_uri": "https://localhost:8080/",
     "height": 421
    },
    "id": "cKxL1sgAsicq",
    "outputId": "784741c4-c54d-41a5-c64b-feb1a6161ea5"
   },
   "outputs": [
    {
     "data": {
      "text/plain": [
       "Text(0, 0.5, 'frequency')"
      ]
     },
     "execution_count": 36,
     "metadata": {
      "tags": []
     },
     "output_type": "execute_result"
    },
    {
     "data": {
      "image/png": "[encoded data removed]",
      "text/plain": [
       "<Figure size 1080x432 with 4 Axes>"
      ]
     },
     "metadata": {
      "needs_background": "light",
      "tags": []
     },
     "output_type": "display_data"
    }
   ],
   "source": [
    "plt.figure(figsize=(15, 6))\n",
    "\n",
    "plt.subplot(2, 2, 1)\n",
    "plt.hist(df_anger[\"Intensity Score\"], bins=10)\n",
    "plt.title('Anger')\n",
    "#plt.xlabel('intensity')\n",
    "plt.ylabel('frequency')\n",
    "\n",
    "plt.subplot(2, 2, 2)\n",
    "plt.hist(df_fear[\"Intensity Score\"], bins=10)\n",
    "plt.title('Fear')\n",
    "#plt.xlabel('intensity')\n",
    "plt.ylabel('frequency')\n",
    "\n",
    "plt.subplot(2, 2, 3)\n",
    "plt.hist(df_joy[\"Intensity Score\"], bins=10)\n",
    "plt.title('Joy')\n",
    "plt.xlabel('intensity')\n",
    "plt.ylabel('frequency')\n",
    "\n",
    "plt.subplot(2, 2, 4)\n",
    "plt.hist(df_sadness[\"Intensity Score\"], bins=10)\n",
    "plt.title('Sadness')\n",
    "plt.xlabel('intensity')\n",
    "plt.ylabel('frequency')"
   ]
  },
  {
   "cell_type": "code",
   "execution_count": null,
   "metadata": {
    "colab": {
     "base_uri": "https://localhost:8080/"
    },
    "id": "DUNotQw8sicr",
    "outputId": "a3977344-5174-4577-9024-1a24d83cac6e"
   },
   "outputs": [
    {
     "data": {
      "text/plain": [
       "0.000    16937\n",
       "0.516    27   \n",
       "0.500    26   \n",
       "0.547    23   \n",
       "0.469    22   \n",
       "Name: Intensity Score, dtype: int64"
      ]
     },
     "execution_count": 37,
     "metadata": {
      "tags": []
     },
     "output_type": "execute_result"
    }
   ],
   "source": [
    "df_anger[\"Intensity Score\"].value_counts().head()"
   ]
  },
  {
   "cell_type": "markdown",
   "metadata": {
    "id": "a_L94lkAsics"
   },
   "source": [
    "**It is surprising to see that each dataset has such  high proportion of low intensity values**\n",
    " - Let´s separate the 0 intensities from the remainder values and see what the 0 intensity tweets look like"
   ]
  },
  {
   "cell_type": "markdown",
   "metadata": {
    "id": "UrUVKHmwsics"
   },
   "source": [
    "## 2. Examine entries with zero-level Intensity Scores"
   ]
  },
  {
   "cell_type": "code",
   "execution_count": null,
   "metadata": {
    "id": "ZXvORDjrsics"
   },
   "outputs": [],
   "source": [
    "df_anger0 = df_anger[df_anger[\"Intensity Score\"] == 0]\n",
    "df_fear0 = df_fear[df_fear[\"Intensity Score\"] == 0]\n",
    "df_joy0 = df_joy[df_joy[\"Intensity Score\"] == 0]\n",
    "df_sadness0 = df_sadness[df_sadness[\"Intensity Score\"] == 0]"
   ]
  },
  {
   "cell_type": "code",
   "execution_count": null,
   "metadata": {
    "colab": {
     "base_uri": "https://localhost:8080/"
    },
    "id": "aYY-PIgtsict",
    "outputId": "27c54f16-267e-4b84-b122-102f56c8373f"
   },
   "outputs": [
    {
     "data": {
      "text/plain": [
       "(16937, 16937, 16937, 16937)"
      ]
     },
     "execution_count": 39,
     "metadata": {
      "tags": []
     },
     "output_type": "execute_result"
    }
   ],
   "source": [
    "len(df_anger0), len(df_fear0), len(df_joy0), len(df_sadness0)"
   ]
  },
  {
   "cell_type": "code",
   "execution_count": null,
   "metadata": {
    "colab": {
     "base_uri": "https://localhost:8080/"
    },
    "id": "iupFpxEhsict",
    "outputId": "8b0b1453-fbd2-4237-fc71-de8344164720"
   },
   "outputs": [
    {
     "data": {
      "text/plain": [
       "(1002    The situation makes Leroy feel annoyed.           \n",
       " 1003    Leroy found himself in a grim situation.          \n",
       " 1004    My girlfriend feels dissapointed.                 \n",
       " 1005    The situation makes Shereen feel discouraged.     \n",
       " 1006    Kristin is a lousy bartender.                     \n",
       " 1007    What is the name of the largest Syrian lake?      \n",
       " 1008    The situation makes Jamel feel scared.            \n",
       " 1009    The conversation with an Argentinian was dreadful.\n",
       " Name: Tweet, dtype: object,\n",
       " 986    The situation makes Leroy feel annoyed.           \n",
       " 987    Leroy found himself in a grim situation.          \n",
       " 988    My girlfriend feels dissapointed.                 \n",
       " 989    The situation makes Shereen feel discouraged.     \n",
       " 990    Kristin is a lousy bartender.                     \n",
       " 991    What is the name of the largest Syrian lake?      \n",
       " 992    The situation makes Jamel feel scared.            \n",
       " 993    The conversation with an Argentinian was dreadful.\n",
       " Name: Tweet, dtype: object,\n",
       " 1105    The situation makes Leroy feel annoyed.           \n",
       " 1106    Leroy found himself in a grim situation.          \n",
       " 1107    My girlfriend feels dissapointed.                 \n",
       " 1108    The situation makes Shereen feel discouraged.     \n",
       " 1109    Kristin is a lousy bartender.                     \n",
       " 1110    What is the name of the largest Syrian lake?      \n",
       " 1111    The situation makes Jamel feel scared.            \n",
       " 1112    The conversation with an Argentinian was dreadful.\n",
       " Name: Tweet, dtype: object,\n",
       " 975    The situation makes Leroy feel annoyed.           \n",
       " 976    Leroy found himself in a grim situation.          \n",
       " 977    My girlfriend feels dissapointed.                 \n",
       " 978    The situation makes Shereen feel discouraged.     \n",
       " 979    Kristin is a lousy bartender.                     \n",
       " 980    What is the name of the largest Syrian lake?      \n",
       " 981    The situation makes Jamel feel scared.            \n",
       " 982    The conversation with an Argentinian was dreadful.\n",
       " Name: Tweet, dtype: object)"
      ]
     },
     "execution_count": 40,
     "metadata": {
      "tags": []
     },
     "output_type": "execute_result"
    }
   ],
   "source": [
    "df_anger0.head(8).Tweet, df_fear0.head(8).Tweet, df_joy0.head(8).Tweet, df_sadness0.head(8).Tweet, "
   ]
  },
  {
   "cell_type": "markdown",
   "metadata": {
    "id": "IttVTBL7sicu"
   },
   "source": [
    "**Comment:** The data is quite repetitive and does not really represent the user´s emotions. Perhaps it~s best if we exclude them from our training set"
   ]
  },
  {
   "cell_type": "markdown",
   "metadata": {
    "id": "vl8D9rEEsicu"
   },
   "source": [
    "## 3. Examine entries with non-zero Intensity Scores"
   ]
  },
  {
   "cell_type": "code",
   "execution_count": null,
   "metadata": {
    "id": "CjOV123esicv"
   },
   "outputs": [],
   "source": [
    "df_anger1 = df_anger[df_anger[\"Intensity Score\"] != 0]\n",
    "df_fear1 = df_fear[df_fear[\"Intensity Score\"] != 0]\n",
    "df_joy1 = df_joy[df_joy[\"Intensity Score\"] != 0]\n",
    "df_sadness1 = df_sadness[df_sadness[\"Intensity Score\"] != 0]"
   ]
  },
  {
   "cell_type": "code",
   "execution_count": null,
   "metadata": {
    "colab": {
     "base_uri": "https://localhost:8080/",
     "height": 421
    },
    "id": "exF8uYSKsicv",
    "outputId": "bcd74468-6490-4024-ae3b-fdcc1755d54b"
   },
   "outputs": [
    {
     "data": {
      "text/plain": [
       "Text(0, 0.5, 'frequency')"
      ]
     },
     "execution_count": 42,
     "metadata": {
      "tags": []
     },
     "output_type": "execute_result"
    },
    {
     "data": {
      "image/png": "[encoded data removed]",
      "text/plain": [
       "<Figure size 1080x432 with 4 Axes>"
      ]
     },
     "metadata": {
      "needs_background": "light",
      "tags": []
     },
     "output_type": "display_data"
    }
   ],
   "source": [
    "plt.figure(figsize=(15, 6))\n",
    "\n",
    "plt.subplot(2, 2, 1)\n",
    "plt.hist(df_anger1[\"Intensity Score\"], bins=10)\n",
    "plt.title('Anger')\n",
    "#plt.xlabel('intensity')\n",
    "plt.ylabel('frequency')\n",
    "\n",
    "plt.subplot(2, 2, 2)\n",
    "plt.hist(df_fear1[\"Intensity Score\"], bins=10)\n",
    "plt.title('Fear')\n",
    "#plt.xlabel('intensity')\n",
    "plt.ylabel('frequency')\n",
    "\n",
    "plt.subplot(2, 2, 3)\n",
    "plt.hist(df_joy1[\"Intensity Score\"], bins=10)\n",
    "plt.title('Joy')\n",
    "plt.xlabel('intensity')\n",
    "plt.ylabel('frequency')\n",
    "\n",
    "plt.subplot(2, 2, 4)\n",
    "plt.hist(df_sadness1[\"Intensity Score\"], bins=10)\n",
    "plt.title('Sadness')\n",
    "plt.xlabel('intensity')\n",
    "plt.ylabel('frequency')"
   ]
  },
  {
   "cell_type": "code",
   "execution_count": null,
   "metadata": {
    "colab": {
     "base_uri": "https://localhost:8080/"
    },
    "id": "Y93F7ptasicw",
    "outputId": "74f9bd2e-095c-4980-b304-d35a94ab96b7"
   },
   "outputs": [
    {
     "data": {
      "text/plain": [
       "(1002, 986, 1105, 975)"
      ]
     },
     "execution_count": 43,
     "metadata": {
      "tags": []
     },
     "output_type": "execute_result"
    }
   ],
   "source": [
    "len(df_anger1), len(df_fear1), len(df_joy1), len(df_sadness1)"
   ]
  },
  {
   "cell_type": "markdown",
   "metadata": {
    "id": "fIpaWQRwsicw"
   },
   "source": [
    "## 4. Analysis of Individual Datasets"
   ]
  },
  {
   "cell_type": "markdown",
   "metadata": {
    "id": "U85xQKXYsicw"
   },
   "source": [
    "Let´s Try to look more closely at each category, especially at the lower and upper region, and decide if any data can be included into our training set.\n",
    "We want to find generalisable patterns"
   ]
  },
  {
   "cell_type": "markdown",
   "metadata": {
    "id": "THsa9AL6sicx"
   },
   "source": [
    "**_A. Examine Anger_**"
   ]
  },
  {
   "cell_type": "code",
   "execution_count": null,
   "metadata": {
    "colab": {
     "base_uri": "https://localhost:8080/",
     "height": 1000
    },
    "id": "JNPpsnj3sicx",
    "outputId": "588cda03-ff90-43b0-a9b9-79d05dff25ba"
   },
   "outputs": [
    {
     "data": {
      "text/html": [
       "<div>\n",
       "<style scoped>\n",
       "    .dataframe tbody tr th:only-of-type {\n",
       "        vertical-align: middle;\n",
       "    }\n",
       "\n",
       "    .dataframe tbody tr th {\n",
       "        vertical-align: top;\n",
       "    }\n",
       "\n",
       "    .dataframe thead th {\n",
       "        text-align: right;\n",
       "    }\n",
       "</style>\n",
       "<table border=\"1\" class=\"dataframe\">\n",
       "  <thead>\n",
       "    <tr style=\"text-align: right;\">\n",
       "      <th></th>\n",
       "      <th>ID</th>\n",
       "      <th>Tweet</th>\n",
       "      <th>Affect Dimension</th>\n",
       "      <th>Intensity Score</th>\n",
       "    </tr>\n",
       "  </thead>\n",
       "  <tbody>\n",
       "    <tr>\n",
       "      <th>15</th>\n",
       "      <td>2018-En-03228</td>\n",
       "      <td>Dropping son off this morning then shopping with my girls for shoes wedding fun this afternoon.  Your TL won't explode today.  😀</td>\n",
       "      <td>anger</td>\n",
       "      <td>0.266</td>\n",
       "    </tr>\n",
       "    <tr>\n",
       "      <th>23</th>\n",
       "      <td>2018-En-03865</td>\n",
       "      <td>My heart is so happy I want to explode. ❤️💥</td>\n",
       "      <td>anger</td>\n",
       "      <td>0.061</td>\n",
       "    </tr>\n",
       "    <tr>\n",
       "      <th>27</th>\n",
       "      <td>2018-En-03447</td>\n",
       "      <td>YOU MIGHT BE TRYING TO FILL THE VOID IN YOUR #HEART WITH ALL SORTS OF THINGS BUT THAT PLACE BELONGS TO JESUS CHRIST #music #worry #love #SMM</td>\n",
       "      <td>anger</td>\n",
       "      <td>0.210</td>\n",
       "    </tr>\n",
       "    <tr>\n",
       "      <th>33</th>\n",
       "      <td>2018-En-01879</td>\n",
       "      <td>Dont sink to the level of those who insult you. Rather, rise to the level of those who inspire you. Deliver result, not insult</td>\n",
       "      <td>anger</td>\n",
       "      <td>0.258</td>\n",
       "    </tr>\n",
       "    <tr>\n",
       "      <th>36</th>\n",
       "      <td>2018-En-03548</td>\n",
       "      <td>So I'm pretty sure the @Indians are the MVP of the @AllStarGame  #defense #pitching</td>\n",
       "      <td>anger</td>\n",
       "      <td>0.250</td>\n",
       "    </tr>\n",
       "    <tr>\n",
       "      <th>37</th>\n",
       "      <td>2018-En-00043</td>\n",
       "      <td>it takes sadness to know happiness\\nabsence to value presence</td>\n",
       "      <td>anger</td>\n",
       "      <td>0.290</td>\n",
       "    </tr>\n",
       "    <tr>\n",
       "      <th>38</th>\n",
       "      <td>2018-En-01639</td>\n",
       "      <td>To recreate my romantic memories, I'd just put a chip on my shoulder  #masterchefau</td>\n",
       "      <td>anger</td>\n",
       "      <td>0.297</td>\n",
       "    </tr>\n",
       "    <tr>\n",
       "      <th>51</th>\n",
       "      <td>2018-En-01445</td>\n",
       "      <td>@askGST_GoI without the process of boiling and drying, it cannot be used for coooking.</td>\n",
       "      <td>anger</td>\n",
       "      <td>0.266</td>\n",
       "    </tr>\n",
       "    <tr>\n",
       "      <th>59</th>\n",
       "      <td>2018-En-03110</td>\n",
       "      <td>#moist people aren't #offended by a little typo.</td>\n",
       "      <td>anger</td>\n",
       "      <td>0.297</td>\n",
       "    </tr>\n",
       "    <tr>\n",
       "      <th>61</th>\n",
       "      <td>2018-En-04114</td>\n",
       "      <td>Love implies anger. The man who is angered by nothing cares about nothing. ~Edward Abbey #love</td>\n",
       "      <td>anger</td>\n",
       "      <td>0.172</td>\n",
       "    </tr>\n",
       "    <tr>\n",
       "      <th>62</th>\n",
       "      <td>2018-En-02961</td>\n",
       "      <td>nothing better than going on holiday when the weathers grim at home</td>\n",
       "      <td>anger</td>\n",
       "      <td>0.250</td>\n",
       "    </tr>\n",
       "    <tr>\n",
       "      <th>63</th>\n",
       "      <td>2018-En-02429</td>\n",
       "      <td>There are parts of you that wants the sadness. Find them out, ask them why</td>\n",
       "      <td>anger</td>\n",
       "      <td>0.274</td>\n",
       "    </tr>\n",
       "    <tr>\n",
       "      <th>67</th>\n",
       "      <td>2018-En-02973</td>\n",
       "      <td>I want a friendship group like in Friends 😧</td>\n",
       "      <td>anger</td>\n",
       "      <td>0.227</td>\n",
       "    </tr>\n",
       "    <tr>\n",
       "      <th>71</th>\n",
       "      <td>2018-En-02950</td>\n",
       "      <td>@pattonoswalt @EricaRoman_ Amazing how folks are foaming at the mouth to judge. We're happy for you @pattonoswalt !!!!!!!!!!</td>\n",
       "      <td>anger</td>\n",
       "      <td>0.194</td>\n",
       "    </tr>\n",
       "    <tr>\n",
       "      <th>78</th>\n",
       "      <td>2018-En-04171</td>\n",
       "      <td>Everyone want to win,but swear they never lost at anything. Victory is only sweet when you taste the bitterness of defeat.</td>\n",
       "      <td>anger</td>\n",
       "      <td>0.250</td>\n",
       "    </tr>\n",
       "    <tr>\n",
       "      <th>85</th>\n",
       "      <td>2018-En-00525</td>\n",
       "      <td>just watch a revenge movie or write it down in a journal and let it all out</td>\n",
       "      <td>anger</td>\n",
       "      <td>0.266</td>\n",
       "    </tr>\n",
       "    <tr>\n",
       "      <th>97</th>\n",
       "      <td>2018-En-03179</td>\n",
       "      <td>What can you say about @rogerfederer #awestruck.....</td>\n",
       "      <td>anger</td>\n",
       "      <td>0.290</td>\n",
       "    </tr>\n",
       "    <tr>\n",
       "      <th>99</th>\n",
       "      <td>2018-En-03927</td>\n",
       "      <td>I keep so many #secrets, my heads gonna #explode!!! \\nOh hey there i didn't notice u were reading this see #good #morning \\n@GoodMorningWord 💖</td>\n",
       "      <td>anger</td>\n",
       "      <td>0.281</td>\n",
       "    </tr>\n",
       "    <tr>\n",
       "      <th>100</th>\n",
       "      <td>2018-En-03019</td>\n",
       "      <td>If your nail polish has hardened or is gummy, place the bottle in a pan of boiling water. The polish will be like new.</td>\n",
       "      <td>anger</td>\n",
       "      <td>0.212</td>\n",
       "    </tr>\n",
       "    <tr>\n",
       "      <th>109</th>\n",
       "      <td>2018-En-02598</td>\n",
       "      <td>@soyoprincess @MisfitPhoenix @beastynewall @Gunderthswain 'Racist'is the fashionable insult - ignore it.</td>\n",
       "      <td>anger</td>\n",
       "      <td>0.297</td>\n",
       "    </tr>\n",
       "  </tbody>\n",
       "</table>\n",
       "</div>"
      ],
      "text/plain": [
       "                ID  ... Intensity Score\n",
       "15   2018-En-03228  ...  0.266         \n",
       "23   2018-En-03865  ...  0.061         \n",
       "27   2018-En-03447  ...  0.210         \n",
       "33   2018-En-01879  ...  0.258         \n",
       "36   2018-En-03548  ...  0.250         \n",
       "37   2018-En-00043  ...  0.290         \n",
       "38   2018-En-01639  ...  0.297         \n",
       "51   2018-En-01445  ...  0.266         \n",
       "59   2018-En-03110  ...  0.297         \n",
       "61   2018-En-04114  ...  0.172         \n",
       "62   2018-En-02961  ...  0.250         \n",
       "63   2018-En-02429  ...  0.274         \n",
       "67   2018-En-02973  ...  0.227         \n",
       "71   2018-En-02950  ...  0.194         \n",
       "78   2018-En-04171  ...  0.250         \n",
       "85   2018-En-00525  ...  0.266         \n",
       "97   2018-En-03179  ...  0.290         \n",
       "99   2018-En-03927  ...  0.281         \n",
       "100  2018-En-03019  ...  0.212         \n",
       "109  2018-En-02598  ...  0.297         \n",
       "\n",
       "[20 rows x 4 columns]"
      ]
     },
     "execution_count": 44,
     "metadata": {
      "tags": []
     },
     "output_type": "execute_result"
    }
   ],
   "source": [
    "df_anger1[df_anger1[\"Intensity Score\"] < 0.3].head(20)"
   ]
  },
  {
   "cell_type": "code",
   "execution_count": null,
   "metadata": {
    "colab": {
     "base_uri": "https://localhost:8080/"
    },
    "id": "So_X4RDHsicy",
    "outputId": "11932b2a-d65b-436f-e738-e917f4a5d16e"
   },
   "outputs": [
    {
     "data": {
      "text/plain": [
       "131"
      ]
     },
     "execution_count": 45,
     "metadata": {
      "tags": []
     },
     "output_type": "execute_result"
    }
   ],
   "source": [
    "len(df_anger1[df_anger1[\"Intensity Score\"] < 0.3])"
   ]
  },
  {
   "cell_type": "code",
   "execution_count": null,
   "metadata": {
    "colab": {
     "base_uri": "https://localhost:8080/",
     "height": 1000
    },
    "id": "z_p0eNjksicy",
    "outputId": "49196a95-e3a3-4dcb-b6e1-2d7b4b166766"
   },
   "outputs": [
    {
     "data": {
      "text/html": [
       "<div>\n",
       "<style scoped>\n",
       "    .dataframe tbody tr th:only-of-type {\n",
       "        vertical-align: middle;\n",
       "    }\n",
       "\n",
       "    .dataframe tbody tr th {\n",
       "        vertical-align: top;\n",
       "    }\n",
       "\n",
       "    .dataframe thead th {\n",
       "        text-align: right;\n",
       "    }\n",
       "</style>\n",
       "<table border=\"1\" class=\"dataframe\">\n",
       "  <thead>\n",
       "    <tr style=\"text-align: right;\">\n",
       "      <th></th>\n",
       "      <th>ID</th>\n",
       "      <th>Tweet</th>\n",
       "      <th>Affect Dimension</th>\n",
       "      <th>Intensity Score</th>\n",
       "    </tr>\n",
       "  </thead>\n",
       "  <tbody>\n",
       "    <tr>\n",
       "      <th>6</th>\n",
       "      <td>2018-En-04119</td>\n",
       "      <td>Just know USA, all Canadians don't agree with what Khadr's settlement and his unwillingness to take responsibility for his actions. #outrage</td>\n",
       "      <td>anger</td>\n",
       "      <td>0.844</td>\n",
       "    </tr>\n",
       "    <tr>\n",
       "      <th>7</th>\n",
       "      <td>2018-En-01392</td>\n",
       "      <td>I hate getting woken up out my sleep 😡</td>\n",
       "      <td>anger</td>\n",
       "      <td>0.823</td>\n",
       "    </tr>\n",
       "    <tr>\n",
       "      <th>9</th>\n",
       "      <td>2018-En-01244</td>\n",
       "      <td>#UKVI why are you so difficult to access? And why on earth am I being charged exorbitant amounts to understand about my visa status?!  #crap</td>\n",
       "      <td>anger</td>\n",
       "      <td>0.803</td>\n",
       "    </tr>\n",
       "    <tr>\n",
       "      <th>12</th>\n",
       "      <td>2018-En-02200</td>\n",
       "      <td>@CP_UK_Longleat money grabbing and RUBBISH customer service!!! Rapids shut but no reply to emails! #diabolical #CustomerService #crap</td>\n",
       "      <td>anger</td>\n",
       "      <td>0.914</td>\n",
       "    </tr>\n",
       "    <tr>\n",
       "      <th>13</th>\n",
       "      <td>2018-En-01391</td>\n",
       "      <td>I am so freaking annoyed that he constantly feels the need to be a time in my life where I'd be happy with just one monitor on my PC</td>\n",
       "      <td>anger</td>\n",
       "      <td>0.848</td>\n",
       "    </tr>\n",
       "    <tr>\n",
       "      <th>79</th>\n",
       "      <td>2018-En-00819</td>\n",
       "      <td>@AmazonHelp Why are you making it so hard to return a faulty item. It's not my fault that you sent out an item that doesn't work #fuming</td>\n",
       "      <td>anger</td>\n",
       "      <td>0.828</td>\n",
       "    </tr>\n",
       "    <tr>\n",
       "      <th>110</th>\n",
       "      <td>2018-En-00702</td>\n",
       "      <td>Remember when Julia thought she was pregnant with Michael's baby and I was so happy about it and then the storyline got dropped. #pissed</td>\n",
       "      <td>anger</td>\n",
       "      <td>0.889</td>\n",
       "    </tr>\n",
       "    <tr>\n",
       "      <th>112</th>\n",
       "      <td>2018-En-04293</td>\n",
       "      <td>See people now selling their #MayMac presss conference tickets at Wembley for £100 now when they were free. Scum cunts!!! 😡</td>\n",
       "      <td>anger</td>\n",
       "      <td>0.924</td>\n",
       "    </tr>\n",
       "    <tr>\n",
       "      <th>113</th>\n",
       "      <td>2018-En-00985</td>\n",
       "      <td>@mumsnet_madness I am furious that these passive smokers are huffing all my cig smoke without contributing to the cost of a packet #outrage</td>\n",
       "      <td>anger</td>\n",
       "      <td>0.833</td>\n",
       "    </tr>\n",
       "    <tr>\n",
       "      <th>148</th>\n",
       "      <td>2018-En-00919</td>\n",
       "      <td>If I see one more Lakshmi EX enrage, I'm kill someone.</td>\n",
       "      <td>anger</td>\n",
       "      <td>0.922</td>\n",
       "    </tr>\n",
       "    <tr>\n",
       "      <th>150</th>\n",
       "      <td>2018-En-01041</td>\n",
       "      <td>all this anger is making me tored and there's literally no reason to stay up for this shitshow</td>\n",
       "      <td>anger</td>\n",
       "      <td>0.937</td>\n",
       "    </tr>\n",
       "    <tr>\n",
       "      <th>177</th>\n",
       "      <td>2018-En-00139</td>\n",
       "      <td>Sam all she fuckin said was about you meeting her rents on Friday which WAS GOING TO HAPPEN ANYWAY YOU DICK #cbb #cbbfinal #arsehole</td>\n",
       "      <td>anger</td>\n",
       "      <td>0.875</td>\n",
       "    </tr>\n",
       "    <tr>\n",
       "      <th>183</th>\n",
       "      <td>2018-En-02699</td>\n",
       "      <td>Anybody else getting furious about all the ads / articles filled with #WalkingDead &amp;amp; #GoT spoilers? #mad #furious #sad #SpoilerAlert</td>\n",
       "      <td>anger</td>\n",
       "      <td>0.871</td>\n",
       "    </tr>\n",
       "    <tr>\n",
       "      <th>185</th>\n",
       "      <td>2018-En-01082</td>\n",
       "      <td>Request MRI 2 years ago, Neuro only requested last year, I'm still waiting on appointment  #mssucks #healthcareFail</td>\n",
       "      <td>anger</td>\n",
       "      <td>0.819</td>\n",
       "    </tr>\n",
       "    <tr>\n",
       "      <th>220</th>\n",
       "      <td>2018-En-00545</td>\n",
       "      <td>#furious as fuck!!</td>\n",
       "      <td>anger</td>\n",
       "      <td>0.953</td>\n",
       "    </tr>\n",
       "    <tr>\n",
       "      <th>222</th>\n",
       "      <td>2018-En-00831</td>\n",
       "      <td>@altontowers Loves the rich!!! Fuck us 'working class folk' and our kids! #fuming #joke #scandalous #disgusting #altontowers  😡😡</td>\n",
       "      <td>anger</td>\n",
       "      <td>0.891</td>\n",
       "    </tr>\n",
       "    <tr>\n",
       "      <th>239</th>\n",
       "      <td>2018-En-03988</td>\n",
       "      <td>Cannot express my #hatred for @ATT they even screw me at work! 😠 this is 2nd time they cut our lines #idiots #worthless #needtobefined</td>\n",
       "      <td>anger</td>\n",
       "      <td>0.875</td>\n",
       "    </tr>\n",
       "    <tr>\n",
       "      <th>240</th>\n",
       "      <td>2018-En-00339</td>\n",
       "      <td>fuck shit fuck fuck shit  #suicideISanoption</td>\n",
       "      <td>anger</td>\n",
       "      <td>0.828</td>\n",
       "    </tr>\n",
       "    <tr>\n",
       "      <th>241</th>\n",
       "      <td>2018-En-02307</td>\n",
       "      <td>Nothing fuels my daily anger and hatred like a bus driver who stops at a yellow light</td>\n",
       "      <td>anger</td>\n",
       "      <td>0.813</td>\n",
       "    </tr>\n",
       "    <tr>\n",
       "      <th>249</th>\n",
       "      <td>2018-En-00712</td>\n",
       "      <td>#Vocabulary #1: Crap : extremely poor in quality.\\n\\nEx3: That movie was terrible. I can't believe I just wasted $10 on such #crap !\\n\\n#English</td>\n",
       "      <td>anger</td>\n",
       "      <td>0.803</td>\n",
       "    </tr>\n",
       "  </tbody>\n",
       "</table>\n",
       "</div>"
      ],
      "text/plain": [
       "                ID  ... Intensity Score\n",
       "6    2018-En-04119  ...  0.844         \n",
       "7    2018-En-01392  ...  0.823         \n",
       "9    2018-En-01244  ...  0.803         \n",
       "12   2018-En-02200  ...  0.914         \n",
       "13   2018-En-01391  ...  0.848         \n",
       "79   2018-En-00819  ...  0.828         \n",
       "110  2018-En-00702  ...  0.889         \n",
       "112  2018-En-04293  ...  0.924         \n",
       "113  2018-En-00985  ...  0.833         \n",
       "148  2018-En-00919  ...  0.922         \n",
       "150  2018-En-01041  ...  0.937         \n",
       "177  2018-En-00139  ...  0.875         \n",
       "183  2018-En-02699  ...  0.871         \n",
       "185  2018-En-01082  ...  0.819         \n",
       "220  2018-En-00545  ...  0.953         \n",
       "222  2018-En-00831  ...  0.891         \n",
       "239  2018-En-03988  ...  0.875         \n",
       "240  2018-En-00339  ...  0.828         \n",
       "241  2018-En-02307  ...  0.813         \n",
       "249  2018-En-00712  ...  0.803         \n",
       "\n",
       "[20 rows x 4 columns]"
      ]
     },
     "execution_count": 46,
     "metadata": {
      "tags": []
     },
     "output_type": "execute_result"
    }
   ],
   "source": [
    "df_anger1[df_anger1[\"Intensity Score\"] > 0.8].head(20)"
   ]
  },
  {
   "cell_type": "markdown",
   "metadata": {
    "id": "MjQvGVVAsicy"
   },
   "source": [
    "**Conclusion** - A low value of anger can be included as non-depressive, judging by our random sample of text. A high level of anger is a little more tricky, so we will not include them for now"
   ]
  },
  {
   "cell_type": "markdown",
   "metadata": {
    "id": "YIVMiwzlsicz"
   },
   "source": [
    "**_B. Examine Fear_**"
   ]
  },
  {
   "cell_type": "code",
   "execution_count": null,
   "metadata": {
    "colab": {
     "base_uri": "https://localhost:8080/",
     "height": 1000
    },
    "id": "S4bC8doWsic0",
    "outputId": "1b8a32ce-478a-443b-e550-ac4f35e934c8"
   },
   "outputs": [
    {
     "data": {
      "text/html": [
       "<div>\n",
       "<style scoped>\n",
       "    .dataframe tbody tr th:only-of-type {\n",
       "        vertical-align: middle;\n",
       "    }\n",
       "\n",
       "    .dataframe tbody tr th {\n",
       "        vertical-align: top;\n",
       "    }\n",
       "\n",
       "    .dataframe thead th {\n",
       "        text-align: right;\n",
       "    }\n",
       "</style>\n",
       "<table border=\"1\" class=\"dataframe\">\n",
       "  <thead>\n",
       "    <tr style=\"text-align: right;\">\n",
       "      <th></th>\n",
       "      <th>ID</th>\n",
       "      <th>Tweet</th>\n",
       "      <th>Affect Dimension</th>\n",
       "      <th>Intensity Score</th>\n",
       "    </tr>\n",
       "  </thead>\n",
       "  <tbody>\n",
       "    <tr>\n",
       "      <th>2</th>\n",
       "      <td>2018-En-03973</td>\n",
       "      <td>@executivegoth I tried a free Alpha trial to watch #dread and I'm sold. Worth the subscription alone. You all are incredible!</td>\n",
       "      <td>fear</td>\n",
       "      <td>0.179</td>\n",
       "    </tr>\n",
       "    <tr>\n",
       "      <th>5</th>\n",
       "      <td>2018-En-02333</td>\n",
       "      <td>@cnn please get Sebstian Gorka off of my tv.  The whole trump admin. needs to stop deflecting by talking about Hillary.</td>\n",
       "      <td>fear</td>\n",
       "      <td>0.328</td>\n",
       "    </tr>\n",
       "    <tr>\n",
       "      <th>11</th>\n",
       "      <td>2018-En-01344</td>\n",
       "      <td>My morning protein shake. Delicious way to assure I start my day the right way with 21 gms of whey protein. #protein #shake #morning</td>\n",
       "      <td>fear</td>\n",
       "      <td>0.210</td>\n",
       "    </tr>\n",
       "    <tr>\n",
       "      <th>12</th>\n",
       "      <td>2018-En-02726</td>\n",
       "      <td>#AI #revolation, soon is possible!\\n #fearless  #good #goodness</td>\n",
       "      <td>fear</td>\n",
       "      <td>0.194</td>\n",
       "    </tr>\n",
       "    <tr>\n",
       "      <th>18</th>\n",
       "      <td>2018-En-02179</td>\n",
       "      <td>'You dare threaten me, Thor, with so puny a weapon?'</td>\n",
       "      <td>fear</td>\n",
       "      <td>0.304</td>\n",
       "    </tr>\n",
       "    <tr>\n",
       "      <th>20</th>\n",
       "      <td>2018-En-01028</td>\n",
       "      <td>Why is an alarm clock going 'off' when it actually turns on? #alarm #alarmclock #ThursdayThoughts</td>\n",
       "      <td>fear</td>\n",
       "      <td>0.346</td>\n",
       "    </tr>\n",
       "    <tr>\n",
       "      <th>25</th>\n",
       "      <td>2018-En-01771</td>\n",
       "      <td>@shahidafridi37 at his best.... Great to watch u go big sir. #tremendous hits \\nDts boom boom Afridi 😍</td>\n",
       "      <td>fear</td>\n",
       "      <td>0.133</td>\n",
       "    </tr>\n",
       "    <tr>\n",
       "      <th>27</th>\n",
       "      <td>2018-En-03019</td>\n",
       "      <td>If your nail polish has hardened or is gummy, place the bottle in a pan of boiling water. The polish will be like new.</td>\n",
       "      <td>fear</td>\n",
       "      <td>0.222</td>\n",
       "    </tr>\n",
       "    <tr>\n",
       "      <th>29</th>\n",
       "      <td>2018-En-01166</td>\n",
       "      <td>no offense to those who love k culture, u can love it all you want bbs!! 💖 but i just personally want to get to know my own country's-</td>\n",
       "      <td>fear</td>\n",
       "      <td>0.281</td>\n",
       "    </tr>\n",
       "    <tr>\n",
       "      <th>33</th>\n",
       "      <td>2018-En-03035</td>\n",
       "      <td>It bugs me that people concern themselves so much with what other people CHOOSE to do with their money 😂🙈</td>\n",
       "      <td>fear</td>\n",
       "      <td>0.250</td>\n",
       "    </tr>\n",
       "    <tr>\n",
       "      <th>37</th>\n",
       "      <td>2018-En-03594</td>\n",
       "      <td>I'm not picky, guys are just intimidated by me... and I don't let dudes run over me or run my life and finances. If u can't respect that bye</td>\n",
       "      <td>fear</td>\n",
       "      <td>0.296</td>\n",
       "    </tr>\n",
       "    <tr>\n",
       "      <th>40</th>\n",
       "      <td>2018-En-00210</td>\n",
       "      <td>Don't be discouraged.</td>\n",
       "      <td>fear</td>\n",
       "      <td>0.321</td>\n",
       "    </tr>\n",
       "    <tr>\n",
       "      <th>42</th>\n",
       "      <td>2018-En-02270</td>\n",
       "      <td>#fans #gamers what you think @EAMaddenNFL 18 is going to rate the #Dolphins #offense #defense special teams rating &amp;amp; rank out of 32 teams</td>\n",
       "      <td>fear</td>\n",
       "      <td>0.321</td>\n",
       "    </tr>\n",
       "    <tr>\n",
       "      <th>47</th>\n",
       "      <td>2018-En-04376</td>\n",
       "      <td>Up early. Kicking ass and taking names. #offense.</td>\n",
       "      <td>fear</td>\n",
       "      <td>0.290</td>\n",
       "    </tr>\n",
       "    <tr>\n",
       "      <th>49</th>\n",
       "      <td>2018-En-03673</td>\n",
       "      <td>Olivia is a prime example how you can be gorgeous on the outside &amp;amp; have a really shitty personality! #looksainteverything #loveisland</td>\n",
       "      <td>fear</td>\n",
       "      <td>0.219</td>\n",
       "    </tr>\n",
       "    <tr>\n",
       "      <th>51</th>\n",
       "      <td>2018-En-00484</td>\n",
       "      <td>Time to get my dreads back I miss them 😩😩 #dread head #girlswithdreads</td>\n",
       "      <td>fear</td>\n",
       "      <td>0.350</td>\n",
       "    </tr>\n",
       "    <tr>\n",
       "      <th>53</th>\n",
       "      <td>2018-En-01173</td>\n",
       "      <td>Dear Emma its my honor to communicate with you directly kindly give me this tremendous opportunity to chat via Whats App 00966504634031 thx</td>\n",
       "      <td>fear</td>\n",
       "      <td>0.232</td>\n",
       "    </tr>\n",
       "    <tr>\n",
       "      <th>55</th>\n",
       "      <td>2018-En-01808</td>\n",
       "      <td>Sometimes you have to smile to hide your fears and to laugh to hide your tears</td>\n",
       "      <td>fear</td>\n",
       "      <td>0.310</td>\n",
       "    </tr>\n",
       "    <tr>\n",
       "      <th>58</th>\n",
       "      <td>2018-En-02325</td>\n",
       "      <td>And plz don't hesitate to come in. We have a translation\\nservices either. We all are waiting you to come!</td>\n",
       "      <td>fear</td>\n",
       "      <td>0.194</td>\n",
       "    </tr>\n",
       "    <tr>\n",
       "      <th>61</th>\n",
       "      <td>2018-En-02457</td>\n",
       "      <td>@Ritsakuru awe sorry na</td>\n",
       "      <td>fear</td>\n",
       "      <td>0.359</td>\n",
       "    </tr>\n",
       "  </tbody>\n",
       "</table>\n",
       "</div>"
      ],
      "text/plain": [
       "               ID  ... Intensity Score\n",
       "2   2018-En-03973  ...  0.179         \n",
       "5   2018-En-02333  ...  0.328         \n",
       "11  2018-En-01344  ...  0.210         \n",
       "12  2018-En-02726  ...  0.194         \n",
       "18  2018-En-02179  ...  0.304         \n",
       "20  2018-En-01028  ...  0.346         \n",
       "25  2018-En-01771  ...  0.133         \n",
       "27  2018-En-03019  ...  0.222         \n",
       "29  2018-En-01166  ...  0.281         \n",
       "33  2018-En-03035  ...  0.250         \n",
       "37  2018-En-03594  ...  0.296         \n",
       "40  2018-En-00210  ...  0.321         \n",
       "42  2018-En-02270  ...  0.321         \n",
       "47  2018-En-04376  ...  0.290         \n",
       "49  2018-En-03673  ...  0.219         \n",
       "51  2018-En-00484  ...  0.350         \n",
       "53  2018-En-01173  ...  0.232         \n",
       "55  2018-En-01808  ...  0.310         \n",
       "58  2018-En-02325  ...  0.194         \n",
       "61  2018-En-02457  ...  0.359         \n",
       "\n",
       "[20 rows x 4 columns]"
      ]
     },
     "execution_count": 47,
     "metadata": {
      "tags": []
     },
     "output_type": "execute_result"
    }
   ],
   "source": [
    "df_fear1[df_fear1[\"Intensity Score\"] < 0.4].head(20)"
   ]
  },
  {
   "cell_type": "code",
   "execution_count": null,
   "metadata": {
    "colab": {
     "base_uri": "https://localhost:8080/"
    },
    "id": "n11gpf2-sic0",
    "outputId": "78d1eec3-fd6e-4774-8f9b-0449716ff330"
   },
   "outputs": [
    {
     "data": {
      "text/plain": [
       "265"
      ]
     },
     "execution_count": 48,
     "metadata": {
      "tags": []
     },
     "output_type": "execute_result"
    }
   ],
   "source": [
    "len(df_fear1[df_fear1[\"Intensity Score\"] < 0.4])"
   ]
  },
  {
   "cell_type": "code",
   "execution_count": null,
   "metadata": {
    "colab": {
     "base_uri": "https://localhost:8080/",
     "height": 1000
    },
    "id": "VgKPA_eCsic1",
    "outputId": "c26d1dc8-b540-4c5c-e25f-b1a5d1172c4b"
   },
   "outputs": [
    {
     "data": {
      "text/html": [
       "<div>\n",
       "<style scoped>\n",
       "    .dataframe tbody tr th:only-of-type {\n",
       "        vertical-align: middle;\n",
       "    }\n",
       "\n",
       "    .dataframe tbody tr th {\n",
       "        vertical-align: top;\n",
       "    }\n",
       "\n",
       "    .dataframe thead th {\n",
       "        text-align: right;\n",
       "    }\n",
       "</style>\n",
       "<table border=\"1\" class=\"dataframe\">\n",
       "  <thead>\n",
       "    <tr style=\"text-align: right;\">\n",
       "      <th></th>\n",
       "      <th>ID</th>\n",
       "      <th>Tweet</th>\n",
       "      <th>Affect Dimension</th>\n",
       "      <th>Intensity Score</th>\n",
       "    </tr>\n",
       "  </thead>\n",
       "  <tbody>\n",
       "    <tr>\n",
       "      <th>28</th>\n",
       "      <td>2018-En-03125</td>\n",
       "      <td>#TrumpRally : divisive, rude, incoherent. This man is truly insane. #terrifying #ridiculous I am an Arizonan Against Trump.</td>\n",
       "      <td>fear</td>\n",
       "      <td>0.839</td>\n",
       "    </tr>\n",
       "    <tr>\n",
       "      <th>39</th>\n",
       "      <td>2018-En-01914</td>\n",
       "      <td>things that terrify me: remembering my bf follows me on twitter</td>\n",
       "      <td>fear</td>\n",
       "      <td>0.817</td>\n",
       "    </tr>\n",
       "    <tr>\n",
       "      <th>43</th>\n",
       "      <td>2018-En-02003</td>\n",
       "      <td>3 hours of hell again. #anxiety. At this point I'm convinced I'll never get an on site job again or play keyboards live.</td>\n",
       "      <td>fear</td>\n",
       "      <td>0.895</td>\n",
       "    </tr>\n",
       "    <tr>\n",
       "      <th>56</th>\n",
       "      <td>2018-En-00526</td>\n",
       "      <td>One of those days. #Mentalhealth #Anxiety #agoraphobia #panic #depression #OCD</td>\n",
       "      <td>fear</td>\n",
       "      <td>0.907</td>\n",
       "    </tr>\n",
       "    <tr>\n",
       "      <th>97</th>\n",
       "      <td>2018-En-02972</td>\n",
       "      <td>@idktaehyng the possibilities terrify me</td>\n",
       "      <td>fear</td>\n",
       "      <td>0.911</td>\n",
       "    </tr>\n",
       "    <tr>\n",
       "      <th>101</th>\n",
       "      <td>2018-En-00694</td>\n",
       "      <td>I finally got my drivers permit #yes #readytodrive #nervous #scared</td>\n",
       "      <td>fear</td>\n",
       "      <td>0.857</td>\n",
       "    </tr>\n",
       "    <tr>\n",
       "      <th>135</th>\n",
       "      <td>2018-En-03209</td>\n",
       "      <td>Potentially going on holiday in 7 days.. can you get fit in that time? #panic 🤔</td>\n",
       "      <td>fear</td>\n",
       "      <td>0.911</td>\n",
       "    </tr>\n",
       "    <tr>\n",
       "      <th>144</th>\n",
       "      <td>2018-En-00105</td>\n",
       "      <td>On 1 side is the concern &amp;amp; fear 4 our teens' safety &amp;amp; happiness #thathorriblesuicidegame #terrifying #sosick (contd)</td>\n",
       "      <td>fear</td>\n",
       "      <td>0.806</td>\n",
       "    </tr>\n",
       "    <tr>\n",
       "      <th>147</th>\n",
       "      <td>2018-En-03585</td>\n",
       "      <td>I panic when someone says: 'I need to talk to you'.</td>\n",
       "      <td>fear</td>\n",
       "      <td>0.847</td>\n",
       "    </tr>\n",
       "    <tr>\n",
       "      <th>149</th>\n",
       "      <td>2018-En-03244</td>\n",
       "      <td>Ashamed. How #EU citizens treated and made #insecure in #UK @AmberRuddHR @theresa_may It's on yr watch #fear#anger #distrust is flourishing</td>\n",
       "      <td>fear</td>\n",
       "      <td>0.850</td>\n",
       "    </tr>\n",
       "    <tr>\n",
       "      <th>180</th>\n",
       "      <td>2018-En-02709</td>\n",
       "      <td>Tmr is the most important day to determine my future.....I am really nervous xxx</td>\n",
       "      <td>fear</td>\n",
       "      <td>0.854</td>\n",
       "    </tr>\n",
       "    <tr>\n",
       "      <th>200</th>\n",
       "      <td>2018-En-01348</td>\n",
       "      <td>Yeah im more afraid</td>\n",
       "      <td>fear</td>\n",
       "      <td>0.913</td>\n",
       "    </tr>\n",
       "    <tr>\n",
       "      <th>208</th>\n",
       "      <td>2018-En-00762</td>\n",
       "      <td>@ElfinKate @CulturalWatch @aldaily @BullDeborah @SelinaNThompson @CSSDLondon @CSSDLondon Tedx 1st Sept #scared!</td>\n",
       "      <td>fear</td>\n",
       "      <td>0.808</td>\n",
       "    </tr>\n",
       "    <tr>\n",
       "      <th>220</th>\n",
       "      <td>2018-En-04285</td>\n",
       "      <td>also, been kind of silent on s11 of the x-files because i am terrified that CC is going to screw it up! actually i know he will... #dreading</td>\n",
       "      <td>fear</td>\n",
       "      <td>0.845</td>\n",
       "    </tr>\n",
       "    <tr>\n",
       "      <th>221</th>\n",
       "      <td>2018-En-00083</td>\n",
       "      <td>@insurextech   Do you have complete control over your website and twitter account again.  We're nervous and uneasy on ico day.</td>\n",
       "      <td>fear</td>\n",
       "      <td>0.806</td>\n",
       "    </tr>\n",
       "    <tr>\n",
       "      <th>229</th>\n",
       "      <td>2018-En-03866</td>\n",
       "      <td>Model Town massacre represented the height of terrorism, savagery and oppression committed by the rulers\\n#ArrestModelTownKillers</td>\n",
       "      <td>fear</td>\n",
       "      <td>0.813</td>\n",
       "    </tr>\n",
       "    <tr>\n",
       "      <th>238</th>\n",
       "      <td>2018-En-03213</td>\n",
       "      <td>and you start to think that your new found home will be yours forever, with no threat in sight, until something or someone comes along...</td>\n",
       "      <td>fear</td>\n",
       "      <td>0.808</td>\n",
       "    </tr>\n",
       "    <tr>\n",
       "      <th>250</th>\n",
       "      <td>2018-En-02876</td>\n",
       "      <td>Suicide Blast killed 11 people in Cameroon. #bomb #attack   #security #explosion</td>\n",
       "      <td>fear</td>\n",
       "      <td>0.804</td>\n",
       "    </tr>\n",
       "    <tr>\n",
       "      <th>293</th>\n",
       "      <td>2018-En-03654</td>\n",
       "      <td>Before... I fear of not having you in my life... Now... I fear of letting you back into my life. #fears</td>\n",
       "      <td>fear</td>\n",
       "      <td>0.897</td>\n",
       "    </tr>\n",
       "    <tr>\n",
       "      <th>297</th>\n",
       "      <td>2018-En-01752</td>\n",
       "      <td>@lc_bradley @MarvMach @OxfordPlayhouse I know *that* - I *mean* Emma Rice's Wise Children!!! #angelacarter #panic</td>\n",
       "      <td>fear</td>\n",
       "      <td>0.804</td>\n",
       "    </tr>\n",
       "  </tbody>\n",
       "</table>\n",
       "</div>"
      ],
      "text/plain": [
       "                ID  ... Intensity Score\n",
       "28   2018-En-03125  ...  0.839         \n",
       "39   2018-En-01914  ...  0.817         \n",
       "43   2018-En-02003  ...  0.895         \n",
       "56   2018-En-00526  ...  0.907         \n",
       "97   2018-En-02972  ...  0.911         \n",
       "101  2018-En-00694  ...  0.857         \n",
       "135  2018-En-03209  ...  0.911         \n",
       "144  2018-En-00105  ...  0.806         \n",
       "147  2018-En-03585  ...  0.847         \n",
       "149  2018-En-03244  ...  0.850         \n",
       "180  2018-En-02709  ...  0.854         \n",
       "200  2018-En-01348  ...  0.913         \n",
       "208  2018-En-00762  ...  0.808         \n",
       "220  2018-En-04285  ...  0.845         \n",
       "221  2018-En-00083  ...  0.806         \n",
       "229  2018-En-03866  ...  0.813         \n",
       "238  2018-En-03213  ...  0.808         \n",
       "250  2018-En-02876  ...  0.804         \n",
       "293  2018-En-03654  ...  0.897         \n",
       "297  2018-En-01752  ...  0.804         \n",
       "\n",
       "[20 rows x 4 columns]"
      ]
     },
     "execution_count": 49,
     "metadata": {
      "tags": []
     },
     "output_type": "execute_result"
    }
   ],
   "source": [
    "df_fear1[df_fear1[\"Intensity Score\"] > 0.8].head(20)"
   ]
  },
  {
   "cell_type": "markdown",
   "metadata": {
    "id": "V-0PZFQdsic1"
   },
   "source": [
    "**Conclusion** - A low-mod value of fear does not appear to be depressive. However, a higher level of fear is harder to judge, so will not be included this time"
   ]
  },
  {
   "cell_type": "markdown",
   "metadata": {
    "id": "-2Hfj5Xasic1"
   },
   "source": [
    "**_C. Examine Joy_**"
   ]
  },
  {
   "cell_type": "code",
   "execution_count": null,
   "metadata": {
    "colab": {
     "base_uri": "https://localhost:8080/",
     "height": 1000
    },
    "id": "Tm0-r7BKsic2",
    "outputId": "ad99460c-cffa-4673-9167-c9eda5ab4945"
   },
   "outputs": [
    {
     "data": {
      "text/html": [
       "<div>\n",
       "<style scoped>\n",
       "    .dataframe tbody tr th:only-of-type {\n",
       "        vertical-align: middle;\n",
       "    }\n",
       "\n",
       "    .dataframe tbody tr th {\n",
       "        vertical-align: top;\n",
       "    }\n",
       "\n",
       "    .dataframe thead th {\n",
       "        text-align: right;\n",
       "    }\n",
       "</style>\n",
       "<table border=\"1\" class=\"dataframe\">\n",
       "  <thead>\n",
       "    <tr style=\"text-align: right;\">\n",
       "      <th></th>\n",
       "      <th>ID</th>\n",
       "      <th>Tweet</th>\n",
       "      <th>Affect Dimension</th>\n",
       "      <th>Intensity Score</th>\n",
       "    </tr>\n",
       "  </thead>\n",
       "  <tbody>\n",
       "    <tr>\n",
       "      <th>3</th>\n",
       "      <td>2018-En-01532</td>\n",
       "      <td>#good to learning #wisdom &amp;lt;&amp;lt; reform (v): make in order to improve something &amp;gt;&amp;gt;</td>\n",
       "      <td>joy</td>\n",
       "      <td>0.281</td>\n",
       "    </tr>\n",
       "    <tr>\n",
       "      <th>9</th>\n",
       "      <td>2018-En-00053</td>\n",
       "      <td>@thedramble Tried it once. Poured into the sink. Didn't bother to make tasting notes :-) Looks like cheap sake, tasted like it too...</td>\n",
       "      <td>joy</td>\n",
       "      <td>0.281</td>\n",
       "    </tr>\n",
       "    <tr>\n",
       "      <th>17</th>\n",
       "      <td>2018-En-04294</td>\n",
       "      <td>@SkyNewsAust Oh for four years these  panelists were the lnp cheer squad hypocrites</td>\n",
       "      <td>joy</td>\n",
       "      <td>0.250</td>\n",
       "    </tr>\n",
       "    <tr>\n",
       "      <th>18</th>\n",
       "      <td>2018-En-00063</td>\n",
       "      <td>someone cheer me up</td>\n",
       "      <td>joy</td>\n",
       "      <td>0.219</td>\n",
       "    </tr>\n",
       "    <tr>\n",
       "      <th>32</th>\n",
       "      <td>2018-En-00663</td>\n",
       "      <td>persuade me into taking you out by using lively puns</td>\n",
       "      <td>joy</td>\n",
       "      <td>0.250</td>\n",
       "    </tr>\n",
       "    <tr>\n",
       "      <th>45</th>\n",
       "      <td>2018-En-01203</td>\n",
       "      <td>Bitter afternoon,no sweetness at all #Lenovo</td>\n",
       "      <td>joy</td>\n",
       "      <td>0.141</td>\n",
       "    </tr>\n",
       "    <tr>\n",
       "      <th>47</th>\n",
       "      <td>2018-En-02499</td>\n",
       "      <td>@England_Netball @NetballSW Please vote for the South West nominees to give us a chance #humbled  #southwestnetballfamily</td>\n",
       "      <td>joy</td>\n",
       "      <td>0.234</td>\n",
       "    </tr>\n",
       "    <tr>\n",
       "      <th>69</th>\n",
       "      <td>2018-En-00784</td>\n",
       "      <td>TY @PhilDieke: 'To drown out the God of #blessing is a powerful #political act. But the silencing cannot go on forever.' - @FCSCreationSpir</td>\n",
       "      <td>joy</td>\n",
       "      <td>0.242</td>\n",
       "    </tr>\n",
       "    <tr>\n",
       "      <th>70</th>\n",
       "      <td>2018-En-00586</td>\n",
       "      <td>“When I get sad, I stop being sad and be awesome instead.” \\n― Barney Stinson</td>\n",
       "      <td>joy</td>\n",
       "      <td>0.281</td>\n",
       "    </tr>\n",
       "    <tr>\n",
       "      <th>77</th>\n",
       "      <td>2018-En-00505</td>\n",
       "      <td>@marcrileydj Looks like City fans are already blaming the ref for a shock defeat at Bournemouth, #amusing</td>\n",
       "      <td>joy</td>\n",
       "      <td>0.182</td>\n",
       "    </tr>\n",
       "    <tr>\n",
       "      <th>78</th>\n",
       "      <td>2018-En-02156</td>\n",
       "      <td>@SnoopDogg is the man</td>\n",
       "      <td>joy</td>\n",
       "      <td>0.258</td>\n",
       "    </tr>\n",
       "    <tr>\n",
       "      <th>85</th>\n",
       "      <td>2018-En-00840</td>\n",
       "      <td>@xxBambsxx @OriginalFunko @AshWillBradley @Elliewhitt123 I've retweeted and followed #good luck @AshWillBradley @OriginalFunko</td>\n",
       "      <td>joy</td>\n",
       "      <td>0.250</td>\n",
       "    </tr>\n",
       "    <tr>\n",
       "      <th>88</th>\n",
       "      <td>2018-En-02966</td>\n",
       "      <td>@Rinoa11 lel I already know the whole plot dont worry I would have warned you :D man... Cid tho... That bitch slapped Gabranths hand away</td>\n",
       "      <td>joy</td>\n",
       "      <td>0.266</td>\n",
       "    </tr>\n",
       "    <tr>\n",
       "      <th>95</th>\n",
       "      <td>2018-En-02840</td>\n",
       "      <td>Fuck @mariannethyssen  Let us go for #splendid isolation !</td>\n",
       "      <td>joy</td>\n",
       "      <td>0.212</td>\n",
       "    </tr>\n",
       "    <tr>\n",
       "      <th>107</th>\n",
       "      <td>2018-En-02622</td>\n",
       "      <td>@DannyMcguire6 sad day Danny 😓you have been and still are a true Leeds rhino you have been brilliant at the club I will miss you</td>\n",
       "      <td>joy</td>\n",
       "      <td>0.156</td>\n",
       "    </tr>\n",
       "    <tr>\n",
       "      <th>117</th>\n",
       "      <td>2018-En-01655</td>\n",
       "      <td>I just tore my 2nd meniscus in 2 months what the fuck have you accomplished. But seriously, reaching maniacal laughter pain/WTF, self?-ness</td>\n",
       "      <td>joy</td>\n",
       "      <td>0.156</td>\n",
       "    </tr>\n",
       "    <tr>\n",
       "      <th>124</th>\n",
       "      <td>2018-En-01737</td>\n",
       "      <td>@LouiseLinton just because you married money doesn't mean you have class it just means you are a high prices prostitute.  #adorable</td>\n",
       "      <td>joy</td>\n",
       "      <td>0.141</td>\n",
       "    </tr>\n",
       "    <tr>\n",
       "      <th>127</th>\n",
       "      <td>2018-En-00377</td>\n",
       "      <td>#Gambling Horse racing is animated roulette. ~ Roger Kahn #quotes #followme</td>\n",
       "      <td>joy</td>\n",
       "      <td>0.197</td>\n",
       "    </tr>\n",
       "    <tr>\n",
       "      <th>129</th>\n",
       "      <td>2018-En-01492</td>\n",
       "      <td>There is a rollicking kindness that looks like malice.  Friedrich Nietzsche #friedrichnietzsche</td>\n",
       "      <td>joy</td>\n",
       "      <td>0.297</td>\n",
       "    </tr>\n",
       "    <tr>\n",
       "      <th>134</th>\n",
       "      <td>2018-En-03753</td>\n",
       "      <td>@kaylynreynolds @katycpstrong Ha brilliant 😂. Its really not ok is it 🙁 xx</td>\n",
       "      <td>joy</td>\n",
       "      <td>0.273</td>\n",
       "    </tr>\n",
       "  </tbody>\n",
       "</table>\n",
       "</div>"
      ],
      "text/plain": [
       "                ID  ... Intensity Score\n",
       "3    2018-En-01532  ...  0.281         \n",
       "9    2018-En-00053  ...  0.281         \n",
       "17   2018-En-04294  ...  0.250         \n",
       "18   2018-En-00063  ...  0.219         \n",
       "32   2018-En-00663  ...  0.250         \n",
       "45   2018-En-01203  ...  0.141         \n",
       "47   2018-En-02499  ...  0.234         \n",
       "69   2018-En-00784  ...  0.242         \n",
       "70   2018-En-00586  ...  0.281         \n",
       "77   2018-En-00505  ...  0.182         \n",
       "78   2018-En-02156  ...  0.258         \n",
       "85   2018-En-00840  ...  0.250         \n",
       "88   2018-En-02966  ...  0.266         \n",
       "95   2018-En-02840  ...  0.212         \n",
       "107  2018-En-02622  ...  0.156         \n",
       "117  2018-En-01655  ...  0.156         \n",
       "124  2018-En-01737  ...  0.141         \n",
       "127  2018-En-00377  ...  0.197         \n",
       "129  2018-En-01492  ...  0.297         \n",
       "134  2018-En-03753  ...  0.273         \n",
       "\n",
       "[20 rows x 4 columns]"
      ]
     },
     "execution_count": 50,
     "metadata": {
      "tags": []
     },
     "output_type": "execute_result"
    }
   ],
   "source": [
    "df_joy1[df_joy1[\"Intensity Score\"] < 0.3].head(20)"
   ]
  },
  {
   "cell_type": "code",
   "execution_count": null,
   "metadata": {
    "colab": {
     "base_uri": "https://localhost:8080/",
     "height": 1000
    },
    "id": "YxSSUUDCsic2",
    "outputId": "1b890f93-a89a-457a-eb70-a6cfc0f51179"
   },
   "outputs": [
    {
     "data": {
      "text/html": [
       "<div>\n",
       "<style scoped>\n",
       "    .dataframe tbody tr th:only-of-type {\n",
       "        vertical-align: middle;\n",
       "    }\n",
       "\n",
       "    .dataframe tbody tr th {\n",
       "        vertical-align: top;\n",
       "    }\n",
       "\n",
       "    .dataframe thead th {\n",
       "        text-align: right;\n",
       "    }\n",
       "</style>\n",
       "<table border=\"1\" class=\"dataframe\">\n",
       "  <thead>\n",
       "    <tr style=\"text-align: right;\">\n",
       "      <th></th>\n",
       "      <th>ID</th>\n",
       "      <th>Tweet</th>\n",
       "      <th>Affect Dimension</th>\n",
       "      <th>Intensity Score</th>\n",
       "    </tr>\n",
       "  </thead>\n",
       "  <tbody>\n",
       "    <tr>\n",
       "      <th>0</th>\n",
       "      <td>2018-En-00290</td>\n",
       "      <td>People are truly #amazing. #inspiring day</td>\n",
       "      <td>joy</td>\n",
       "      <td>0.712</td>\n",
       "    </tr>\n",
       "    <tr>\n",
       "      <th>2</th>\n",
       "      <td>2018-En-00588</td>\n",
       "      <td>@NoahWebHouse A review of my book faulted me for spending so much time on Webster's introductory front matter. But I had to, #brilliant!</td>\n",
       "      <td>joy</td>\n",
       "      <td>0.533</td>\n",
       "    </tr>\n",
       "    <tr>\n",
       "      <th>4</th>\n",
       "      <td>2018-En-03258</td>\n",
       "      <td>Really excited to see our team this year, and especially moving in the next 2-3 years when his guys start playing significant minutes.</td>\n",
       "      <td>joy</td>\n",
       "      <td>0.797</td>\n",
       "    </tr>\n",
       "    <tr>\n",
       "      <th>5</th>\n",
       "      <td>2018-En-03332</td>\n",
       "      <td>Be happy. Be confident. Be kind.\\n\\n #KissablesLoveSMShopmag\\nAllOutDenimFor KISSMARC</td>\n",
       "      <td>joy</td>\n",
       "      <td>0.661</td>\n",
       "    </tr>\n",
       "    <tr>\n",
       "      <th>7</th>\n",
       "      <td>2018-En-04146</td>\n",
       "      <td>You don't need money to have a great life, be eccentric, be creative, be joyful, be entertaining and all you want will come!</td>\n",
       "      <td>joy</td>\n",
       "      <td>0.578</td>\n",
       "    </tr>\n",
       "    <tr>\n",
       "      <th>8</th>\n",
       "      <td>2018-En-00231</td>\n",
       "      <td>@SatisfyingTaste @TheAnimalVines I used to make the peanut butter energy balls all the time. My famjam loved them! #recipes #yummy</td>\n",
       "      <td>joy</td>\n",
       "      <td>0.703</td>\n",
       "    </tr>\n",
       "    <tr>\n",
       "      <th>10</th>\n",
       "      <td>2018-En-03178</td>\n",
       "      <td>@RuthieeL &amp;amp; @EamonnHolmes are total entertainment on @thismorning #brilliant #sofunny #myfaves</td>\n",
       "      <td>joy</td>\n",
       "      <td>0.586</td>\n",
       "    </tr>\n",
       "    <tr>\n",
       "      <th>11</th>\n",
       "      <td>2018-En-04149</td>\n",
       "      <td>being an entrepreneur at 18 is a real blessing 🙏🏼 the flexibility, doing what you love, and being the one in charge is #great #blessed</td>\n",
       "      <td>joy</td>\n",
       "      <td>0.750</td>\n",
       "    </tr>\n",
       "    <tr>\n",
       "      <th>12</th>\n",
       "      <td>2018-En-01943</td>\n",
       "      <td>Vin Diesel is pretty cool. I have seen him in that movie Riddick and Pitch Black too. He must work out or something. #smiles</td>\n",
       "      <td>joy</td>\n",
       "      <td>0.532</td>\n",
       "    </tr>\n",
       "    <tr>\n",
       "      <th>13</th>\n",
       "      <td>2018-En-02634</td>\n",
       "      <td>@TeenMomOG2 @Javimarroquin9 @KailLowry He is so cute! Your #minime for sure! #blessing</td>\n",
       "      <td>joy</td>\n",
       "      <td>0.594</td>\n",
       "    </tr>\n",
       "    <tr>\n",
       "      <th>16</th>\n",
       "      <td>2018-En-01783</td>\n",
       "      <td>@071304Nathan Happy #blissful birthday</td>\n",
       "      <td>joy</td>\n",
       "      <td>0.712</td>\n",
       "    </tr>\n",
       "    <tr>\n",
       "      <th>21</th>\n",
       "      <td>2018-En-01609</td>\n",
       "      <td>Beautiful morning at the beach on Anna Maria Island with my wife. #vacation #blessed #happy</td>\n",
       "      <td>joy</td>\n",
       "      <td>0.818</td>\n",
       "    </tr>\n",
       "    <tr>\n",
       "      <th>23</th>\n",
       "      <td>2018-En-01111</td>\n",
       "      <td>Happy birthday @primo_can_dance have a blessed one my G 🎂🍾</td>\n",
       "      <td>joy</td>\n",
       "      <td>0.719</td>\n",
       "    </tr>\n",
       "    <tr>\n",
       "      <th>25</th>\n",
       "      <td>2018-En-04311</td>\n",
       "      <td>One of my clients just said that my look reminded her of Kim Kardashian! Oh shoot hey now! Watch out...\\nNot bad.. okay #flattered</td>\n",
       "      <td>joy</td>\n",
       "      <td>0.514</td>\n",
       "    </tr>\n",
       "    <tr>\n",
       "      <th>26</th>\n",
       "      <td>2018-En-03074</td>\n",
       "      <td>@dwarsrivier_SA Welcome to the industry fellow #guides! Expect a future of #excitement, #hairraising tales and just allround #fun! :D</td>\n",
       "      <td>joy</td>\n",
       "      <td>0.561</td>\n",
       "    </tr>\n",
       "    <tr>\n",
       "      <th>27</th>\n",
       "      <td>2018-En-02384</td>\n",
       "      <td>and now I got tickets to Hamlet #yay #happy #londontheatre</td>\n",
       "      <td>joy</td>\n",
       "      <td>0.721</td>\n",
       "    </tr>\n",
       "    <tr>\n",
       "      <th>29</th>\n",
       "      <td>2018-En-04178</td>\n",
       "      <td>Some people make your laugh a little louder. Your smile a little brighter. and your life a little better</td>\n",
       "      <td>joy</td>\n",
       "      <td>0.656</td>\n",
       "    </tr>\n",
       "    <tr>\n",
       "      <th>31</th>\n",
       "      <td>2018-En-01180</td>\n",
       "      <td>Granny Smiths with Flapjack Crumble, died and in heaven #yummy @stac28 @Kimtins  #NadiyasBritishFoodAdventure</td>\n",
       "      <td>joy</td>\n",
       "      <td>0.516</td>\n",
       "    </tr>\n",
       "    <tr>\n",
       "      <th>36</th>\n",
       "      <td>2018-En-02563</td>\n",
       "      <td>Just seen recent pics of Liz Hurley in swimming costume , she looks amazing 😍 #beauty</td>\n",
       "      <td>joy</td>\n",
       "      <td>0.719</td>\n",
       "    </tr>\n",
       "    <tr>\n",
       "      <th>38</th>\n",
       "      <td>2018-En-03523</td>\n",
       "      <td>Goodevening 😆</td>\n",
       "      <td>joy</td>\n",
       "      <td>0.531</td>\n",
       "    </tr>\n",
       "  </tbody>\n",
       "</table>\n",
       "</div>"
      ],
      "text/plain": [
       "               ID  ... Intensity Score\n",
       "0   2018-En-00290  ...  0.712         \n",
       "2   2018-En-00588  ...  0.533         \n",
       "4   2018-En-03258  ...  0.797         \n",
       "5   2018-En-03332  ...  0.661         \n",
       "7   2018-En-04146  ...  0.578         \n",
       "8   2018-En-00231  ...  0.703         \n",
       "10  2018-En-03178  ...  0.586         \n",
       "11  2018-En-04149  ...  0.750         \n",
       "12  2018-En-01943  ...  0.532         \n",
       "13  2018-En-02634  ...  0.594         \n",
       "16  2018-En-01783  ...  0.712         \n",
       "21  2018-En-01609  ...  0.818         \n",
       "23  2018-En-01111  ...  0.719         \n",
       "25  2018-En-04311  ...  0.514         \n",
       "26  2018-En-03074  ...  0.561         \n",
       "27  2018-En-02384  ...  0.721         \n",
       "29  2018-En-04178  ...  0.656         \n",
       "31  2018-En-01180  ...  0.516         \n",
       "36  2018-En-02563  ...  0.719         \n",
       "38  2018-En-03523  ...  0.531         \n",
       "\n",
       "[20 rows x 4 columns]"
      ]
     },
     "execution_count": 51,
     "metadata": {
      "tags": []
     },
     "output_type": "execute_result"
    }
   ],
   "source": [
    "df_joy1[df_joy1[\"Intensity Score\"] > 0.5].head(20)"
   ]
  },
  {
   "cell_type": "code",
   "execution_count": null,
   "metadata": {
    "colab": {
     "base_uri": "https://localhost:8080/"
    },
    "id": "4qWQsYnLsic3",
    "outputId": "3b508c40-adf4-406d-9872-f03542064777"
   },
   "outputs": [
    {
     "data": {
      "text/plain": [
       "614"
      ]
     },
     "execution_count": 52,
     "metadata": {
      "tags": []
     },
     "output_type": "execute_result"
    }
   ],
   "source": [
    "len(df_joy1[df_joy1[\"Intensity Score\"] > 0.5])"
   ]
  },
  {
   "cell_type": "markdown",
   "metadata": {
    "id": "T3Av7WTBsic3"
   },
   "source": [
    "**Conclusion** - A low level of joy is inconclusive, but a mid-high level of joy is definitely non-depressive, so can be included in our dataset"
   ]
  },
  {
   "cell_type": "markdown",
   "metadata": {
    "id": "JCiH7vy2sic3"
   },
   "source": [
    "**_D. Examine Sadness_**"
   ]
  },
  {
   "cell_type": "code",
   "execution_count": null,
   "metadata": {
    "colab": {
     "base_uri": "https://localhost:8080/",
     "height": 1000
    },
    "id": "Tv82RDTlsic4",
    "outputId": "bee246bb-6277-46b4-85e1-457b4d7d5400"
   },
   "outputs": [
    {
     "data": {
      "text/html": [
       "<div>\n",
       "<style scoped>\n",
       "    .dataframe tbody tr th:only-of-type {\n",
       "        vertical-align: middle;\n",
       "    }\n",
       "\n",
       "    .dataframe tbody tr th {\n",
       "        vertical-align: top;\n",
       "    }\n",
       "\n",
       "    .dataframe thead th {\n",
       "        text-align: right;\n",
       "    }\n",
       "</style>\n",
       "<table border=\"1\" class=\"dataframe\">\n",
       "  <thead>\n",
       "    <tr style=\"text-align: right;\">\n",
       "      <th></th>\n",
       "      <th>ID</th>\n",
       "      <th>Tweet</th>\n",
       "      <th>Affect Dimension</th>\n",
       "      <th>Intensity Score</th>\n",
       "    </tr>\n",
       "  </thead>\n",
       "  <tbody>\n",
       "    <tr>\n",
       "      <th>6</th>\n",
       "      <td>2018-En-01054</td>\n",
       "      <td>@VanBluesat @infrared_rock Among them, is Hawrelak Park and the stage they have there. A great venue. #livemusic #blues</td>\n",
       "      <td>sadness</td>\n",
       "      <td>0.180</td>\n",
       "    </tr>\n",
       "    <tr>\n",
       "      <th>7</th>\n",
       "      <td>2018-En-00210</td>\n",
       "      <td>Don't be discouraged.</td>\n",
       "      <td>sadness</td>\n",
       "      <td>0.283</td>\n",
       "    </tr>\n",
       "    <tr>\n",
       "      <th>8</th>\n",
       "      <td>2018-En-01771</td>\n",
       "      <td>@shahidafridi37 at his best.... Great to watch u go big sir. #tremendous hits \\nDts boom boom Afridi 😍</td>\n",
       "      <td>sadness</td>\n",
       "      <td>0.200</td>\n",
       "    </tr>\n",
       "    <tr>\n",
       "      <th>11</th>\n",
       "      <td>2018-En-00294</td>\n",
       "      <td>“We just have to hold on a bit longer, then we can sink this monster into the ocean.” #foodparty</td>\n",
       "      <td>sadness</td>\n",
       "      <td>0.269</td>\n",
       "    </tr>\n",
       "    <tr>\n",
       "      <th>16</th>\n",
       "      <td>2018-En-03502</td>\n",
       "      <td>Here is the message Cnbc is sending they Don't care that Melissa Lee has a horrible smile or a that Joe Kernan needs braces</td>\n",
       "      <td>sadness</td>\n",
       "      <td>0.283</td>\n",
       "    </tr>\n",
       "    <tr>\n",
       "      <th>18</th>\n",
       "      <td>2018-En-01775</td>\n",
       "      <td>Do #you #said, people never cross the 10! #serious</td>\n",
       "      <td>sadness</td>\n",
       "      <td>0.220</td>\n",
       "    </tr>\n",
       "    <tr>\n",
       "      <th>28</th>\n",
       "      <td>2018-En-03813</td>\n",
       "      <td>Don't ever frown upon someone chasing a dream. Remember you were once chasing one too. HUMILITY ......</td>\n",
       "      <td>sadness</td>\n",
       "      <td>0.288</td>\n",
       "    </tr>\n",
       "    <tr>\n",
       "      <th>30</th>\n",
       "      <td>2018-En-00713</td>\n",
       "      <td>@SpnTentation Thank you! My first solo run!  #excited #andnervous</td>\n",
       "      <td>sadness</td>\n",
       "      <td>0.289</td>\n",
       "    </tr>\n",
       "    <tr>\n",
       "      <th>31</th>\n",
       "      <td>2018-En-03307</td>\n",
       "      <td>@GutoAberconwy Your majority is 635 members of the public- believe me you have offended rather more than 635 voters!</td>\n",
       "      <td>sadness</td>\n",
       "      <td>0.276</td>\n",
       "    </tr>\n",
       "    <tr>\n",
       "      <th>32</th>\n",
       "      <td>2018-En-02823</td>\n",
       "      <td>A joyless faith is not one for which Jesus died. #thegospel #joy #Jesus #happiness</td>\n",
       "      <td>sadness</td>\n",
       "      <td>0.152</td>\n",
       "    </tr>\n",
       "    <tr>\n",
       "      <th>33</th>\n",
       "      <td>2018-En-00127</td>\n",
       "      <td>Hello twitter! My next few tweets are going to be a bit gushy.... Look away if you're feeling bilious!!!</td>\n",
       "      <td>sadness</td>\n",
       "      <td>0.222</td>\n",
       "    </tr>\n",
       "    <tr>\n",
       "      <th>40</th>\n",
       "      <td>2018-En-02856</td>\n",
       "      <td>NEW MUSIC FRIDAY: FIRST SINGLE OFF THE NEXT PROJECT. #untitled #mattrod #hiphop #boston #hartford #animosity #thesemycities</td>\n",
       "      <td>sadness</td>\n",
       "      <td>0.265</td>\n",
       "    </tr>\n",
       "    <tr>\n",
       "      <th>44</th>\n",
       "      <td>2018-En-03600</td>\n",
       "      <td>Come on blues #StateOfOrigin #Origin  #NSWBlues #nsw</td>\n",
       "      <td>sadness</td>\n",
       "      <td>0.190</td>\n",
       "    </tr>\n",
       "    <tr>\n",
       "      <th>45</th>\n",
       "      <td>2018-En-02791</td>\n",
       "      <td>Beware of little expenses. A small leak will sink a great ship. -Benjamin Franklin</td>\n",
       "      <td>sadness</td>\n",
       "      <td>0.261</td>\n",
       "    </tr>\n",
       "    <tr>\n",
       "      <th>46</th>\n",
       "      <td>2018-En-03280</td>\n",
       "      <td>Playing at July 11, 2017 at 09:30PM: Special '20</td>\n",
       "      <td>sadness</td>\n",
       "      <td>0.185</td>\n",
       "    </tr>\n",
       "    <tr>\n",
       "      <th>51</th>\n",
       "      <td>2018-En-03491</td>\n",
       "      <td>feeling like a grim reaper all day hehehe\\n9 days pa 🎩✉️</td>\n",
       "      <td>sadness</td>\n",
       "      <td>0.286</td>\n",
       "    </tr>\n",
       "    <tr>\n",
       "      <th>67</th>\n",
       "      <td>2018-En-00483</td>\n",
       "      <td>@blackvoices Keep it up @gucci1017 #sober clear minded I see you over in Europe on tour killing the game right now!</td>\n",
       "      <td>sadness</td>\n",
       "      <td>0.273</td>\n",
       "    </tr>\n",
       "    <tr>\n",
       "      <th>86</th>\n",
       "      <td>2018-En-00243</td>\n",
       "      <td>You are MINE, my baby, my headache, my love, my smile, my frown, my wrong, my right, my pain, my happiness, my everything.</td>\n",
       "      <td>sadness</td>\n",
       "      <td>0.140</td>\n",
       "    </tr>\n",
       "    <tr>\n",
       "      <th>97</th>\n",
       "      <td>2018-En-02953</td>\n",
       "      <td>It's now raining and I can hear thunder growl somewhere. Good day to read some more.</td>\n",
       "      <td>sadness</td>\n",
       "      <td>0.196</td>\n",
       "    </tr>\n",
       "    <tr>\n",
       "      <th>103</th>\n",
       "      <td>2018-En-01275</td>\n",
       "      <td>if jk realize what taehyung did can he do that to taehyung as a revenge? i would love to</td>\n",
       "      <td>sadness</td>\n",
       "      <td>0.283</td>\n",
       "    </tr>\n",
       "  </tbody>\n",
       "</table>\n",
       "</div>"
      ],
      "text/plain": [
       "                ID  ... Intensity Score\n",
       "6    2018-En-01054  ...  0.180         \n",
       "7    2018-En-00210  ...  0.283         \n",
       "8    2018-En-01771  ...  0.200         \n",
       "11   2018-En-00294  ...  0.269         \n",
       "16   2018-En-03502  ...  0.283         \n",
       "18   2018-En-01775  ...  0.220         \n",
       "28   2018-En-03813  ...  0.288         \n",
       "30   2018-En-00713  ...  0.289         \n",
       "31   2018-En-03307  ...  0.276         \n",
       "32   2018-En-02823  ...  0.152         \n",
       "33   2018-En-00127  ...  0.222         \n",
       "40   2018-En-02856  ...  0.265         \n",
       "44   2018-En-03600  ...  0.190         \n",
       "45   2018-En-02791  ...  0.261         \n",
       "46   2018-En-03280  ...  0.185         \n",
       "51   2018-En-03491  ...  0.286         \n",
       "67   2018-En-00483  ...  0.273         \n",
       "86   2018-En-00243  ...  0.140         \n",
       "97   2018-En-02953  ...  0.196         \n",
       "103  2018-En-01275  ...  0.283         \n",
       "\n",
       "[20 rows x 4 columns]"
      ]
     },
     "execution_count": 53,
     "metadata": {
      "tags": []
     },
     "output_type": "execute_result"
    }
   ],
   "source": [
    "df_sadness1[df_sadness1[\"Intensity Score\"] < 0.3].head(20)"
   ]
  },
  {
   "cell_type": "code",
   "execution_count": null,
   "metadata": {
    "colab": {
     "base_uri": "https://localhost:8080/"
    },
    "id": "X59DB7yRsic4",
    "outputId": "50b943b2-0c86-486a-954f-b4016b623c73"
   },
   "outputs": [
    {
     "data": {
      "text/plain": [
       "121"
      ]
     },
     "execution_count": 54,
     "metadata": {
      "tags": []
     },
     "output_type": "execute_result"
    }
   ],
   "source": [
    "len(df_sadness1[df_sadness1[\"Intensity Score\"] < 0.3])"
   ]
  },
  {
   "cell_type": "code",
   "execution_count": null,
   "metadata": {
    "colab": {
     "base_uri": "https://localhost:8080/",
     "height": 1000
    },
    "id": "YTtFEPb-sic4",
    "outputId": "52120723-b77a-4568-83ec-cd4483cc1dcf"
   },
   "outputs": [
    {
     "data": {
      "text/html": [
       "<div>\n",
       "<style scoped>\n",
       "    .dataframe tbody tr th:only-of-type {\n",
       "        vertical-align: middle;\n",
       "    }\n",
       "\n",
       "    .dataframe tbody tr th {\n",
       "        vertical-align: top;\n",
       "    }\n",
       "\n",
       "    .dataframe thead th {\n",
       "        text-align: right;\n",
       "    }\n",
       "</style>\n",
       "<table border=\"1\" class=\"dataframe\">\n",
       "  <thead>\n",
       "    <tr style=\"text-align: right;\">\n",
       "      <th></th>\n",
       "      <th>ID</th>\n",
       "      <th>Tweet</th>\n",
       "      <th>Affect Dimension</th>\n",
       "      <th>Intensity Score</th>\n",
       "    </tr>\n",
       "  </thead>\n",
       "  <tbody>\n",
       "    <tr>\n",
       "      <th>9</th>\n",
       "      <td>2018-En-00276</td>\n",
       "      <td>we mourn the death of our hopes today #james</td>\n",
       "      <td>sadness</td>\n",
       "      <td>0.870</td>\n",
       "    </tr>\n",
       "    <tr>\n",
       "      <th>22</th>\n",
       "      <td>2018-En-02064</td>\n",
       "      <td>@narendramodi Really it was very sad and shame!!!</td>\n",
       "      <td>sadness</td>\n",
       "      <td>0.862</td>\n",
       "    </tr>\n",
       "    <tr>\n",
       "      <th>42</th>\n",
       "      <td>2018-En-02565</td>\n",
       "      <td>My head is been hurting so much and I lost my appetite</td>\n",
       "      <td>sadness</td>\n",
       "      <td>0.860</td>\n",
       "    </tr>\n",
       "    <tr>\n",
       "      <th>43</th>\n",
       "      <td>2018-En-01021</td>\n",
       "      <td>No, I'm not 'depressed because of the weather,' I'm depressed because I have #depression #sicknotweak</td>\n",
       "      <td>sadness</td>\n",
       "      <td>0.973</td>\n",
       "    </tr>\n",
       "    <tr>\n",
       "      <th>64</th>\n",
       "      <td>2018-En-03308</td>\n",
       "      <td>Would love to stop crying sometime today, on my tenth cry 🙄 deep sadness on top of food poisoning do not mix. #miserable</td>\n",
       "      <td>sadness</td>\n",
       "      <td>0.857</td>\n",
       "    </tr>\n",
       "    <tr>\n",
       "      <th>95</th>\n",
       "      <td>2018-En-03669</td>\n",
       "      <td>#sadness #cry 💔 dad will never understand his 3rd child</td>\n",
       "      <td>sadness</td>\n",
       "      <td>0.833</td>\n",
       "    </tr>\n",
       "    <tr>\n",
       "      <th>125</th>\n",
       "      <td>2018-En-02545</td>\n",
       "      <td>lonely is not being alone, it's the feeling that no one cares. #alone #depressed #anxiety</td>\n",
       "      <td>sadness</td>\n",
       "      <td>0.841</td>\n",
       "    </tr>\n",
       "    <tr>\n",
       "      <th>139</th>\n",
       "      <td>2018-En-01456</td>\n",
       "      <td>this year keeps getting more depressing and disappointing</td>\n",
       "      <td>sadness</td>\n",
       "      <td>0.909</td>\n",
       "    </tr>\n",
       "    <tr>\n",
       "      <th>143</th>\n",
       "      <td>2018-En-03844</td>\n",
       "      <td>no matter how many sad ghost man tears he's crying now! you are not entitled to forgiveness just because you're really sad now!!</td>\n",
       "      <td>sadness</td>\n",
       "      <td>0.804</td>\n",
       "    </tr>\n",
       "    <tr>\n",
       "      <th>166</th>\n",
       "      <td>2018-En-04017</td>\n",
       "      <td>Bout to cry 😭 I just wanna sleep I hate this job 😩</td>\n",
       "      <td>sadness</td>\n",
       "      <td>0.852</td>\n",
       "    </tr>\n",
       "    <tr>\n",
       "      <th>171</th>\n",
       "      <td>2018-En-00418</td>\n",
       "      <td>Once she said you are my world, now she is saying not only you exist in the earth. #pain  #heartbreaking</td>\n",
       "      <td>sadness</td>\n",
       "      <td>0.846</td>\n",
       "    </tr>\n",
       "    <tr>\n",
       "      <th>173</th>\n",
       "      <td>2018-En-04153</td>\n",
       "      <td>I don't know how much longer I can play stupid 😒😔 #heartbroken #stupid #sadness</td>\n",
       "      <td>sadness</td>\n",
       "      <td>0.923</td>\n",
       "    </tr>\n",
       "    <tr>\n",
       "      <th>182</th>\n",
       "      <td>2018-En-03113</td>\n",
       "      <td>I miss my friends so badly 😢</td>\n",
       "      <td>sadness</td>\n",
       "      <td>0.820</td>\n",
       "    </tr>\n",
       "    <tr>\n",
       "      <th>193</th>\n",
       "      <td>2018-En-03944</td>\n",
       "      <td>watching that video and realizing that I've gotten uglier #depressed</td>\n",
       "      <td>sadness</td>\n",
       "      <td>0.944</td>\n",
       "    </tr>\n",
       "    <tr>\n",
       "      <th>194</th>\n",
       "      <td>2018-En-01182</td>\n",
       "      <td>Looking for good news today...not finding any on Twitter. Bummer. 😢 #depressing #badnews</td>\n",
       "      <td>sadness</td>\n",
       "      <td>0.820</td>\n",
       "    </tr>\n",
       "    <tr>\n",
       "      <th>200</th>\n",
       "      <td>2018-En-00725</td>\n",
       "      <td>Bro it deadass suck when you try your best to make one person happy and end up letting everyone down #disappointment</td>\n",
       "      <td>sadness</td>\n",
       "      <td>0.826</td>\n",
       "    </tr>\n",
       "    <tr>\n",
       "      <th>219</th>\n",
       "      <td>2018-En-00928</td>\n",
       "      <td>ha 🙃 ha 🙃 i just realised that i've never actually been to therapy and i still don't know if i'm depressed or just sad all the time</td>\n",
       "      <td>sadness</td>\n",
       "      <td>0.828</td>\n",
       "    </tr>\n",
       "    <tr>\n",
       "      <th>222</th>\n",
       "      <td>2018-En-02340</td>\n",
       "      <td>@CPC_HQ Immature...and Trumpy. Sad one guys😕 Does this represent the intelligence and moral depth of CPC ? #bully #notinmycanada</td>\n",
       "      <td>sadness</td>\n",
       "      <td>0.833</td>\n",
       "    </tr>\n",
       "    <tr>\n",
       "      <th>262</th>\n",
       "      <td>2018-En-02347</td>\n",
       "      <td>Hate seein stories on animal cruelty, why would any1 wanna hurt poor defenceless animals 😩😭 #StopAnimalCruelty #heartbreaking #worldsgoneMad</td>\n",
       "      <td>sadness</td>\n",
       "      <td>0.841</td>\n",
       "    </tr>\n",
       "    <tr>\n",
       "      <th>270</th>\n",
       "      <td>2018-En-00920</td>\n",
       "      <td>Unrealistic expectations attract disappointment. And that's what you were #disappointment #sad</td>\n",
       "      <td>sadness</td>\n",
       "      <td>0.860</td>\n",
       "    </tr>\n",
       "  </tbody>\n",
       "</table>\n",
       "</div>"
      ],
      "text/plain": [
       "                ID  ... Intensity Score\n",
       "9    2018-En-00276  ...  0.870         \n",
       "22   2018-En-02064  ...  0.862         \n",
       "42   2018-En-02565  ...  0.860         \n",
       "43   2018-En-01021  ...  0.973         \n",
       "64   2018-En-03308  ...  0.857         \n",
       "95   2018-En-03669  ...  0.833         \n",
       "125  2018-En-02545  ...  0.841         \n",
       "139  2018-En-01456  ...  0.909         \n",
       "143  2018-En-03844  ...  0.804         \n",
       "166  2018-En-04017  ...  0.852         \n",
       "171  2018-En-00418  ...  0.846         \n",
       "173  2018-En-04153  ...  0.923         \n",
       "182  2018-En-03113  ...  0.820         \n",
       "193  2018-En-03944  ...  0.944         \n",
       "194  2018-En-01182  ...  0.820         \n",
       "200  2018-En-00725  ...  0.826         \n",
       "219  2018-En-00928  ...  0.828         \n",
       "222  2018-En-02340  ...  0.833         \n",
       "262  2018-En-02347  ...  0.841         \n",
       "270  2018-En-00920  ...  0.860         \n",
       "\n",
       "[20 rows x 4 columns]"
      ]
     },
     "execution_count": 55,
     "metadata": {
      "tags": []
     },
     "output_type": "execute_result"
    }
   ],
   "source": [
    "df_sadness1[df_sadness1[\"Intensity Score\"] > 0.8].head(20)"
   ]
  },
  {
   "cell_type": "code",
   "execution_count": null,
   "metadata": {
    "colab": {
     "base_uri": "https://localhost:8080/"
    },
    "id": "4EaDYQ5Xsic5",
    "outputId": "23ed36d5-d970-4bc5-d488-74c366c06d93"
   },
   "outputs": [
    {
     "data": {
      "text/plain": [
       "60"
      ]
     },
     "execution_count": 56,
     "metadata": {
      "tags": []
     },
     "output_type": "execute_result"
    }
   ],
   "source": [
    "len(df_sadness1[df_sadness1[\"Intensity Score\"] > 0.8])"
   ]
  },
  {
   "cell_type": "markdown",
   "metadata": {
    "id": "zM4OJaV9sic5"
   },
   "source": [
    "**Conclusion** - A low value of sadness can be considered as non-depressive, while a high level of sadnes can be marked as depressive"
   ]
  },
  {
   "cell_type": "markdown",
   "metadata": {
    "id": "4IrTxvKlsic6"
   },
   "source": [
    "## 5. Compile the Final Dataset"
   ]
  },
  {
   "cell_type": "markdown",
   "metadata": {
    "id": "11e-92BBsic6"
   },
   "source": [
    "Here are the criteria we will use to select the non-depreesive, and depressive tweets:"
   ]
  },
  {
   "cell_type": "code",
   "execution_count": null,
   "metadata": {
    "colab": {
     "base_uri": "https://localhost:8080/"
    },
    "id": "kb2dmG1asic6",
    "outputId": "5bbbc0c4-cc88-418d-bf86-c687c090b7ce"
   },
   "outputs": [
    {
     "data": {
      "text/plain": [
       "(131, 265, 614, 121)"
      ]
     },
     "execution_count": 57,
     "metadata": {
      "tags": []
     },
     "output_type": "execute_result"
    }
   ],
   "source": [
    "# Non-depressive tweets\n",
    "len(df_anger1[df_anger1[\"Intensity Score\"] < 0.3]), len(df_fear1[df_fear1[\"Intensity Score\"] < 0.4]), len(df_joy1[df_joy1[\"Intensity Score\"] > 0.5]), len(df_sadness1[df_sadness1[\"Intensity Score\"] < 0.3])"
   ]
  },
  {
   "cell_type": "code",
   "execution_count": null,
   "metadata": {
    "colab": {
     "base_uri": "https://localhost:8080/"
    },
    "id": "r5meyGhlsic7",
    "outputId": "87b4faea-0249-4029-b268-a5799470e6ce"
   },
   "outputs": [
    {
     "data": {
      "text/plain": [
       "60"
      ]
     },
     "execution_count": 58,
     "metadata": {
      "tags": []
     },
     "output_type": "execute_result"
    }
   ],
   "source": [
    "# depressive tweets\n",
    "len(df_sadness1[df_sadness1[\"Intensity Score\"] > 0.8])"
   ]
  },
  {
   "cell_type": "code",
   "execution_count": null,
   "metadata": {
    "colab": {
     "base_uri": "https://localhost:8080/"
    },
    "id": "_LmVwY-ksic7",
    "outputId": "75e14f03-903f-4cb3-9aef-95ef3f0e65bc"
   },
   "outputs": [
    {
     "data": {
      "text/plain": [
       "1131"
      ]
     },
     "execution_count": 59,
     "metadata": {
      "tags": []
     },
     "output_type": "execute_result"
    }
   ],
   "source": [
    "df_non_depress = pd.concat([df_anger1[df_anger1[\"Intensity Score\"] < 0.3], df_fear1[df_fear1[\"Intensity Score\"] < 0.4], df_joy1[df_joy1[\"Intensity Score\"] > 0.5], df_sadness1[df_sadness1[\"Intensity Score\"] < 0.3]])\n",
    "len(df_non_depress)"
   ]
  },
  {
   "cell_type": "code",
   "execution_count": null,
   "metadata": {
    "colab": {
     "base_uri": "https://localhost:8080/"
    },
    "id": "FsFxQeiasic8",
    "outputId": "a38d5ab6-2c92-474f-dbc5-1905030beb30"
   },
   "outputs": [
    {
     "data": {
      "text/plain": [
       "60"
      ]
     },
     "execution_count": 60,
     "metadata": {
      "tags": []
     },
     "output_type": "execute_result"
    }
   ],
   "source": [
    "df_depress = df_sadness1[df_sadness1[\"Intensity Score\"] > 0.8]\n",
    "len(df_depress)"
   ]
  },
  {
   "cell_type": "code",
   "execution_count": null,
   "metadata": {
    "colab": {
     "base_uri": "https://localhost:8080/"
    },
    "id": "CJxbpMl9sic8",
    "outputId": "afe08265-84b7-4ab1-f385-a71555e588ea"
   },
   "outputs": [
    {
     "name": "stderr",
     "output_type": "stream",
     "text": [
      "/usr/local/lib/python3.7/dist-packages/ipykernel_launcher.py:2: SettingWithCopyWarning: \n",
      "A value is trying to be set on a copy of a slice from a DataFrame.\n",
      "Try using .loc[row_indexer,col_indexer] = value instead\n",
      "\n",
      "See the caveats in the documentation: https://pandas.pydata.org/pandas-docs/stable/user_guide/indexing.html#returning-a-view-versus-a-copy\n",
      "  \n"
     ]
    }
   ],
   "source": [
    "df_non_depress[\"target\"] = 0\n",
    "df_depress[\"target\"] = 1"
   ]
  },
  {
   "cell_type": "code",
   "execution_count": null,
   "metadata": {
    "colab": {
     "base_uri": "https://localhost:8080/",
     "height": 391
    },
    "id": "RIk9dgmfsic9",
    "outputId": "62f35c48-ccd9-43b3-eb7f-0064b704e1cd"
   },
   "outputs": [
    {
     "data": {
      "text/html": [
       "<div>\n",
       "<style scoped>\n",
       "    .dataframe tbody tr th:only-of-type {\n",
       "        vertical-align: middle;\n",
       "    }\n",
       "\n",
       "    .dataframe tbody tr th {\n",
       "        vertical-align: top;\n",
       "    }\n",
       "\n",
       "    .dataframe thead th {\n",
       "        text-align: right;\n",
       "    }\n",
       "</style>\n",
       "<table border=\"1\" class=\"dataframe\">\n",
       "  <thead>\n",
       "    <tr style=\"text-align: right;\">\n",
       "      <th></th>\n",
       "      <th>ID</th>\n",
       "      <th>Tweet</th>\n",
       "      <th>Affect Dimension</th>\n",
       "      <th>Intensity Score</th>\n",
       "      <th>target</th>\n",
       "    </tr>\n",
       "  </thead>\n",
       "  <tbody>\n",
       "    <tr>\n",
       "      <th>15</th>\n",
       "      <td>2018-En-03228</td>\n",
       "      <td>Dropping son off this morning then shopping with my girls for shoes wedding fun this afternoon.  Your TL won't explode today.  😀</td>\n",
       "      <td>anger</td>\n",
       "      <td>0.266</td>\n",
       "      <td>0</td>\n",
       "    </tr>\n",
       "    <tr>\n",
       "      <th>23</th>\n",
       "      <td>2018-En-03865</td>\n",
       "      <td>My heart is so happy I want to explode. ❤️💥</td>\n",
       "      <td>anger</td>\n",
       "      <td>0.061</td>\n",
       "      <td>0</td>\n",
       "    </tr>\n",
       "    <tr>\n",
       "      <th>27</th>\n",
       "      <td>2018-En-03447</td>\n",
       "      <td>YOU MIGHT BE TRYING TO FILL THE VOID IN YOUR #HEART WITH ALL SORTS OF THINGS BUT THAT PLACE BELONGS TO JESUS CHRIST #music #worry #love #SMM</td>\n",
       "      <td>anger</td>\n",
       "      <td>0.210</td>\n",
       "      <td>0</td>\n",
       "    </tr>\n",
       "    <tr>\n",
       "      <th>33</th>\n",
       "      <td>2018-En-01879</td>\n",
       "      <td>Dont sink to the level of those who insult you. Rather, rise to the level of those who inspire you. Deliver result, not insult</td>\n",
       "      <td>anger</td>\n",
       "      <td>0.258</td>\n",
       "      <td>0</td>\n",
       "    </tr>\n",
       "    <tr>\n",
       "      <th>36</th>\n",
       "      <td>2018-En-03548</td>\n",
       "      <td>So I'm pretty sure the @Indians are the MVP of the @AllStarGame  #defense #pitching</td>\n",
       "      <td>anger</td>\n",
       "      <td>0.250</td>\n",
       "      <td>0</td>\n",
       "    </tr>\n",
       "  </tbody>\n",
       "</table>\n",
       "</div>"
      ],
      "text/plain": [
       "               ID  ... target\n",
       "15  2018-En-03228  ...  0    \n",
       "23  2018-En-03865  ...  0    \n",
       "27  2018-En-03447  ...  0    \n",
       "33  2018-En-01879  ...  0    \n",
       "36  2018-En-03548  ...  0    \n",
       "\n",
       "[5 rows x 5 columns]"
      ]
     },
     "execution_count": 62,
     "metadata": {
      "tags": []
     },
     "output_type": "execute_result"
    }
   ],
   "source": [
    "df_non_depress.head()"
   ]
  },
  {
   "cell_type": "code",
   "execution_count": null,
   "metadata": {
    "colab": {
     "base_uri": "https://localhost:8080/",
     "height": 306
    },
    "id": "8QffqHSjsic9",
    "outputId": "0d7e48ee-38a0-44df-b567-6a670cdb7edd"
   },
   "outputs": [
    {
     "data": {
      "text/html": [
       "<div>\n",
       "<style scoped>\n",
       "    .dataframe tbody tr th:only-of-type {\n",
       "        vertical-align: middle;\n",
       "    }\n",
       "\n",
       "    .dataframe tbody tr th {\n",
       "        vertical-align: top;\n",
       "    }\n",
       "\n",
       "    .dataframe thead th {\n",
       "        text-align: right;\n",
       "    }\n",
       "</style>\n",
       "<table border=\"1\" class=\"dataframe\">\n",
       "  <thead>\n",
       "    <tr style=\"text-align: right;\">\n",
       "      <th></th>\n",
       "      <th>ID</th>\n",
       "      <th>Tweet</th>\n",
       "      <th>Affect Dimension</th>\n",
       "      <th>Intensity Score</th>\n",
       "      <th>target</th>\n",
       "    </tr>\n",
       "  </thead>\n",
       "  <tbody>\n",
       "    <tr>\n",
       "      <th>9</th>\n",
       "      <td>2018-En-00276</td>\n",
       "      <td>we mourn the death of our hopes today #james</td>\n",
       "      <td>sadness</td>\n",
       "      <td>0.870</td>\n",
       "      <td>1</td>\n",
       "    </tr>\n",
       "    <tr>\n",
       "      <th>22</th>\n",
       "      <td>2018-En-02064</td>\n",
       "      <td>@narendramodi Really it was very sad and shame!!!</td>\n",
       "      <td>sadness</td>\n",
       "      <td>0.862</td>\n",
       "      <td>1</td>\n",
       "    </tr>\n",
       "    <tr>\n",
       "      <th>42</th>\n",
       "      <td>2018-En-02565</td>\n",
       "      <td>My head is been hurting so much and I lost my appetite</td>\n",
       "      <td>sadness</td>\n",
       "      <td>0.860</td>\n",
       "      <td>1</td>\n",
       "    </tr>\n",
       "    <tr>\n",
       "      <th>43</th>\n",
       "      <td>2018-En-01021</td>\n",
       "      <td>No, I'm not 'depressed because of the weather,' I'm depressed because I have #depression #sicknotweak</td>\n",
       "      <td>sadness</td>\n",
       "      <td>0.973</td>\n",
       "      <td>1</td>\n",
       "    </tr>\n",
       "    <tr>\n",
       "      <th>64</th>\n",
       "      <td>2018-En-03308</td>\n",
       "      <td>Would love to stop crying sometime today, on my tenth cry 🙄 deep sadness on top of food poisoning do not mix. #miserable</td>\n",
       "      <td>sadness</td>\n",
       "      <td>0.857</td>\n",
       "      <td>1</td>\n",
       "    </tr>\n",
       "  </tbody>\n",
       "</table>\n",
       "</div>"
      ],
      "text/plain": [
       "               ID  ... target\n",
       "9   2018-En-00276  ...  1    \n",
       "22  2018-En-02064  ...  1    \n",
       "42  2018-En-02565  ...  1    \n",
       "43  2018-En-01021  ...  1    \n",
       "64  2018-En-03308  ...  1    \n",
       "\n",
       "[5 rows x 5 columns]"
      ]
     },
     "execution_count": 63,
     "metadata": {
      "tags": []
     },
     "output_type": "execute_result"
    }
   ],
   "source": [
    "df_depress.head()"
   ]
  },
  {
   "cell_type": "code",
   "execution_count": null,
   "metadata": {
    "id": "k5PtXbEysic-"
   },
   "outputs": [],
   "source": [
    "df_final = pd.concat([df_non_depress, df_depress])"
   ]
  },
  {
   "cell_type": "code",
   "execution_count": null,
   "metadata": {
    "colab": {
     "base_uri": "https://localhost:8080/",
     "height": 1000
    },
    "id": "V3nOwWwAsic-",
    "outputId": "5bbbd035-1651-407f-99e5-2538455f767d"
   },
   "outputs": [
    {
     "data": {
      "text/html": [
       "<div>\n",
       "<style scoped>\n",
       "    .dataframe tbody tr th:only-of-type {\n",
       "        vertical-align: middle;\n",
       "    }\n",
       "\n",
       "    .dataframe tbody tr th {\n",
       "        vertical-align: top;\n",
       "    }\n",
       "\n",
       "    .dataframe thead th {\n",
       "        text-align: right;\n",
       "    }\n",
       "</style>\n",
       "<table border=\"1\" class=\"dataframe\">\n",
       "  <thead>\n",
       "    <tr style=\"text-align: right;\">\n",
       "      <th></th>\n",
       "      <th>ID</th>\n",
       "      <th>Tweet</th>\n",
       "      <th>Affect Dimension</th>\n",
       "      <th>Intensity Score</th>\n",
       "      <th>target</th>\n",
       "    </tr>\n",
       "  </thead>\n",
       "  <tbody>\n",
       "    <tr>\n",
       "      <th>0</th>\n",
       "      <td>2018-En-03969</td>\n",
       "      <td>@Jesus_Luvs_Us Hello Jillian &amp;amp; JC - a nice wisg from Betty for blessings to us all - I wish you the same - have a wonderful Tuesday! 😀</td>\n",
       "      <td>joy</td>\n",
       "      <td>0.734</td>\n",
       "      <td>0</td>\n",
       "    </tr>\n",
       "    <tr>\n",
       "      <th>1</th>\n",
       "      <td>2018-En-03026</td>\n",
       "      <td>A shout out to all fellow #12Step-pers. You got this! #recovery  #clean</td>\n",
       "      <td>sadness</td>\n",
       "      <td>0.233</td>\n",
       "      <td>0</td>\n",
       "    </tr>\n",
       "    <tr>\n",
       "      <th>2</th>\n",
       "      <td>2018-En-03336</td>\n",
       "      <td>A pineapple is neither an apple or a pine. It is, in fact, a large berry.</td>\n",
       "      <td>sadness</td>\n",
       "      <td>0.194</td>\n",
       "      <td>0</td>\n",
       "    </tr>\n",
       "    <tr>\n",
       "      <th>3</th>\n",
       "      <td>2018-En-02249</td>\n",
       "      <td>@Ithika Loving it! 😂</td>\n",
       "      <td>joy</td>\n",
       "      <td>0.813</td>\n",
       "      <td>0</td>\n",
       "    </tr>\n",
       "    <tr>\n",
       "      <th>4</th>\n",
       "      <td>2018-En-01445</td>\n",
       "      <td>@askGST_GoI without the process of boiling and drying, it cannot be used for coooking.</td>\n",
       "      <td>anger</td>\n",
       "      <td>0.266</td>\n",
       "      <td>0</td>\n",
       "    </tr>\n",
       "    <tr>\n",
       "      <th>5</th>\n",
       "      <td>2018-En-01941</td>\n",
       "      <td>I start my lpn program this October 😌 #blessed</td>\n",
       "      <td>joy</td>\n",
       "      <td>0.641</td>\n",
       "      <td>0</td>\n",
       "    </tr>\n",
       "    <tr>\n",
       "      <th>6</th>\n",
       "      <td>2018-En-02620</td>\n",
       "      <td>@MegZ1498 Before 10am town going clean up. Doh fret.</td>\n",
       "      <td>anger</td>\n",
       "      <td>0.281</td>\n",
       "      <td>0</td>\n",
       "    </tr>\n",
       "    <tr>\n",
       "      <th>7</th>\n",
       "      <td>2018-En-02652</td>\n",
       "      <td>Happy Birthday @RyanRolison24! Have an AWESOME day! We're keeping up with you on the Cape and you're doing great!</td>\n",
       "      <td>joy</td>\n",
       "      <td>0.797</td>\n",
       "      <td>0</td>\n",
       "    </tr>\n",
       "    <tr>\n",
       "      <th>8</th>\n",
       "      <td>2018-En-01742</td>\n",
       "      <td>Ain't nothing like a good leg workout to start of the day 🤘</td>\n",
       "      <td>joy</td>\n",
       "      <td>0.567</td>\n",
       "      <td>0</td>\n",
       "    </tr>\n",
       "    <tr>\n",
       "      <th>9</th>\n",
       "      <td>2018-En-02078</td>\n",
       "      <td>@TommySandhu @bbcasiannetwork tommy you r phenomenal smashed #ajjdin on the mixes #hilarious and #awesome 😜😂😂👍🏻</td>\n",
       "      <td>joy</td>\n",
       "      <td>0.578</td>\n",
       "      <td>0</td>\n",
       "    </tr>\n",
       "    <tr>\n",
       "      <th>10</th>\n",
       "      <td>2018-En-01609</td>\n",
       "      <td>Beautiful morning at the beach on Anna Maria Island with my wife. #vacation #blessed #happy</td>\n",
       "      <td>joy</td>\n",
       "      <td>0.818</td>\n",
       "      <td>0</td>\n",
       "    </tr>\n",
       "    <tr>\n",
       "      <th>11</th>\n",
       "      <td>2018-En-01444</td>\n",
       "      <td>'The happiest moments in life are not actually spent laughing or smiling the whole time with so many people around.'\\n#JonaxxBBTWKab39</td>\n",
       "      <td>joy</td>\n",
       "      <td>0.531</td>\n",
       "      <td>0</td>\n",
       "    </tr>\n",
       "    <tr>\n",
       "      <th>12</th>\n",
       "      <td>2018-En-02777</td>\n",
       "      <td>So today, the love of my life moved in with me 😍😉😘 #happy #excited</td>\n",
       "      <td>joy</td>\n",
       "      <td>0.968</td>\n",
       "      <td>0</td>\n",
       "    </tr>\n",
       "    <tr>\n",
       "      <th>13</th>\n",
       "      <td>2018-En-02390</td>\n",
       "      <td>Today is your day... \\nSoar your spirit. \\nUnfurl your joy!\\nWishing you all a bright week!\\n #BloodyCrayonsSpecialScreening</td>\n",
       "      <td>joy</td>\n",
       "      <td>0.636</td>\n",
       "      <td>0</td>\n",
       "    </tr>\n",
       "    <tr>\n",
       "      <th>14</th>\n",
       "      <td>2018-En-02823</td>\n",
       "      <td>A joyless faith is not one for which Jesus died. #thegospel #joy #Jesus #happiness</td>\n",
       "      <td>fear</td>\n",
       "      <td>0.250</td>\n",
       "      <td>0</td>\n",
       "    </tr>\n",
       "    <tr>\n",
       "      <th>15</th>\n",
       "      <td>2018-En-02634</td>\n",
       "      <td>@TeenMomOG2 @Javimarroquin9 @KailLowry He is so cute! Your #minime for sure! #blessing</td>\n",
       "      <td>joy</td>\n",
       "      <td>0.594</td>\n",
       "      <td>0</td>\n",
       "    </tr>\n",
       "    <tr>\n",
       "      <th>16</th>\n",
       "      <td>2018-En-02234</td>\n",
       "      <td>Ready to start my day after practising my daily #meditation.Today's focus was on #gratitude and there are so many things to be #grateful for</td>\n",
       "      <td>joy</td>\n",
       "      <td>0.597</td>\n",
       "      <td>0</td>\n",
       "    </tr>\n",
       "    <tr>\n",
       "      <th>17</th>\n",
       "      <td>2018-En-03957</td>\n",
       "      <td>Been spoilt even got a Kylie lip kit 😆</td>\n",
       "      <td>joy</td>\n",
       "      <td>0.530</td>\n",
       "      <td>0</td>\n",
       "    </tr>\n",
       "    <tr>\n",
       "      <th>18</th>\n",
       "      <td>2018-En-02467</td>\n",
       "      <td>It amazes me how many useful videos there are on Youtube.  Everyone sharing knowledge &amp;amp; making money doing it. #wonderful</td>\n",
       "      <td>joy</td>\n",
       "      <td>0.625</td>\n",
       "      <td>0</td>\n",
       "    </tr>\n",
       "    <tr>\n",
       "      <th>19</th>\n",
       "      <td>2018-En-00181</td>\n",
       "      <td>PUPPY FOR ADOPTIONS !!! Happy pics!! Please SHARE for exposure! Put out the word to good adopter prospects!...</td>\n",
       "      <td>joy</td>\n",
       "      <td>0.578</td>\n",
       "      <td>0</td>\n",
       "    </tr>\n",
       "  </tbody>\n",
       "</table>\n",
       "</div>"
      ],
      "text/plain": [
       "               ID  ... target\n",
       "0   2018-En-03969  ...  0    \n",
       "1   2018-En-03026  ...  0    \n",
       "2   2018-En-03336  ...  0    \n",
       "3   2018-En-02249  ...  0    \n",
       "4   2018-En-01445  ...  0    \n",
       "5   2018-En-01941  ...  0    \n",
       "6   2018-En-02620  ...  0    \n",
       "7   2018-En-02652  ...  0    \n",
       "8   2018-En-01742  ...  0    \n",
       "9   2018-En-02078  ...  0    \n",
       "10  2018-En-01609  ...  0    \n",
       "11  2018-En-01444  ...  0    \n",
       "12  2018-En-02777  ...  0    \n",
       "13  2018-En-02390  ...  0    \n",
       "14  2018-En-02823  ...  0    \n",
       "15  2018-En-02634  ...  0    \n",
       "16  2018-En-02234  ...  0    \n",
       "17  2018-En-03957  ...  0    \n",
       "18  2018-En-02467  ...  0    \n",
       "19  2018-En-00181  ...  0    \n",
       "\n",
       "[20 rows x 5 columns]"
      ]
     },
     "execution_count": 65,
     "metadata": {
      "tags": []
     },
     "output_type": "execute_result"
    }
   ],
   "source": [
    "df_final = df_final.sample(frac=1).reset_index(drop=True)\n",
    "df_final.head(20)"
   ]
  },
  {
   "cell_type": "code",
   "execution_count": null,
   "metadata": {
    "id": "jnjCCWu_sic_"
   },
   "outputs": [],
   "source": [
    "df_final.to_csv(\"general_tweets.csv\")"
   ]
  },
  {
   "cell_type": "markdown",
   "metadata": {
    "id": "O5QnQ252sic_"
   },
   "source": [
    "## Conclusion"
   ]
  },
  {
   "cell_type": "markdown",
   "metadata": {
    "id": "fr-vbgigsic_"
   },
   "source": [
    "**The resulting dataset will be combined with the depressive dataset we have compiled, to be used in training and testing our model for depression**"
   ]
  },
  {
   "cell_type": "code",
   "execution_count": null,
   "metadata": {
    "id": "Yw721p3AsidA"
   },
   "outputs": [],
   "source": []
  }
 ],
 "metadata": {
  "colab": {
   "name": "1_non-depressive-data-gathering.ipynb",
   "provenance": []
  },
  "kernelspec": {
   "display_name": "Python 3 (ipykernel)",
   "language": "python",
   "name": "python3"
  },
  "language_info": {
   "codemirror_mode": {
    "name": "ipython",
    "version": 3
   },
   "file_extension": ".py",
   "mimetype": "text/x-python",
   "name": "python",
   "nbconvert_exporter": "python",
   "pygments_lexer": "ipython3",
   "version": "3.9.5"
  }
 },
 "nbformat": 4,
 "nbformat_minor": 1
}
