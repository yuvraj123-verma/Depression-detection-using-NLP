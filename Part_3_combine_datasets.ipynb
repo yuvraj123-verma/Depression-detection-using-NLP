{
 "cells": [
  {
   "cell_type": "markdown",
   "metadata": {
    "id": "3atLESXn69EV"
   },
   "source": [
    "## Combining Datasets\n",
    "\n",
    "In this script we will combine the data gathered from the depreessive scrapping script with the data from the mostly non-depressive scripts,\n",
    "analyse their target distribution, standardise their formats and then construct a final dataset containing all of them.\n",
    "\n",
    "The data from the depressive script hsa been manually reviewed and annotated by several different team members, and then reviewwd one more\n",
    "time by aonther member, to ensure consistency."
   ]
  },
  {
   "cell_type": "code",
   "execution_count": null,
   "metadata": {
    "id": "oCJR_fEg69Eh"
   },
   "outputs": [],
   "source": [
    "import numpy as np\n",
    "import pandas as pd\n",
    "import matplotlib.pyplot as plt\n",
    "import seaborn as sns"
   ]
  },
  {
   "cell_type": "markdown",
   "metadata": {
    "id": "Dw9VzMEF69Ej"
   },
   "source": [
    "**1. Read in non-depressive dataset**"
   ]
  },
  {
   "cell_type": "code",
   "execution_count": null,
   "metadata": {
    "colab": {
     "base_uri": "https://localhost:8080/"
    },
    "id": "NzHYiDAR7d30",
    "outputId": "1877a1f9-476f-4014-d906-98e9ff0679ed"
   },
   "outputs": [
    {
     "name": "stdout",
     "output_type": "stream",
     "text": [
      "Mounted at /content/drive\n"
     ]
    }
   ],
   "source": [
    "from google.colab import drive\n",
    "drive.mount('/content/drive')"
   ]
  },
  {
   "cell_type": "code",
   "execution_count": null,
   "metadata": {
    "id": "Qy3EURWU69Ej"
   },
   "outputs": [],
   "source": [
    "df0 = pd.read_csv(\"/content/drive/MyDrive/Dataset1/depression_data/general_tweets.csv\")"
   ]
  },
  {
   "cell_type": "code",
   "execution_count": null,
   "metadata": {
    "id": "b5FYEBJA69Ek"
   },
   "outputs": [],
   "source": [
    "df1 = pd.read_csv(\"/content/drive/MyDrive/Dataset1/depression_data/tweets_final_1_clean.csv\", engine='python')\n",
    "df2 = pd.read_csv(\"/content/drive/MyDrive/Dataset1/depression_data/tweets_final_2_clean.csv\", engine='python')\n",
    "df3 = pd.read_csv(\"/content/drive/MyDrive/Dataset1/depression_data/tweets_final_3_clean.csv\", engine='python')"
   ]
  },
  {
   "cell_type": "code",
   "execution_count": null,
   "metadata": {
    "id": "Z0CbHBsA69El"
   },
   "outputs": [],
   "source": [
    "df4 = pd.read_csv(\"/content/drive/MyDrive/Dataset1/depression_data/tweets_final_4_clean.csv\", engine='python')\n",
    "df5 = pd.read_csv(\"/content/drive/MyDrive/Dataset1/depression_data/tweets_final_5_clean.csv\", engine='python')\n",
    "df6 = pd.read_csv(\"/content/drive/MyDrive/Dataset1/depression_data/tweets_final_6_clean.csv\", engine='python')"
   ]
  },
  {
   "cell_type": "code",
   "execution_count": null,
   "metadata": {
    "colab": {
     "base_uri": "https://localhost:8080/"
    },
    "id": "2xIT4SwV69El",
    "outputId": "a274676d-2968-452e-ef6e-a531f959d8d7"
   },
   "outputs": [
    {
     "name": "stderr",
     "output_type": "stream",
     "text": [
      "/usr/local/lib/python3.7/dist-packages/ipykernel_launcher.py:1: FutureWarning: Passing a negative integer is deprecated in version 1.0 and will not be supported in future version. Instead, use None to not limit the column width.\n",
      "  \"\"\"Entry point for launching an IPython kernel.\n"
     ]
    }
   ],
   "source": [
    "pd.set_option('display.max_colwidth', -1)"
   ]
  },
  {
   "cell_type": "markdown",
   "metadata": {
    "id": "yXNq1cvo69Em"
   },
   "source": [
    "**2. Briefly analyse their content**"
   ]
  },
  {
   "cell_type": "code",
   "execution_count": null,
   "metadata": {
    "colab": {
     "base_uri": "https://localhost:8080/",
     "height": 162
    },
    "id": "fD9WVmnv69Em",
    "outputId": "bacca2c4-c6ac-4e8f-b0c4-e0f3a0f79d54"
   },
   "outputs": [
    {
     "data": {
      "text/html": [
       "<div>\n",
       "<style scoped>\n",
       "    .dataframe tbody tr th:only-of-type {\n",
       "        vertical-align: middle;\n",
       "    }\n",
       "\n",
       "    .dataframe tbody tr th {\n",
       "        vertical-align: top;\n",
       "    }\n",
       "\n",
       "    .dataframe thead th {\n",
       "        text-align: right;\n",
       "    }\n",
       "</style>\n",
       "<table border=\"1\" class=\"dataframe\">\n",
       "  <thead>\n",
       "    <tr style=\"text-align: right;\">\n",
       "      <th></th>\n",
       "      <th>Unnamed: 0</th>\n",
       "      <th>ID</th>\n",
       "      <th>Tweet</th>\n",
       "      <th>Affect Dimension</th>\n",
       "      <th>Intensity Score</th>\n",
       "      <th>target</th>\n",
       "    </tr>\n",
       "  </thead>\n",
       "  <tbody>\n",
       "    <tr>\n",
       "      <th>0</th>\n",
       "      <td>0</td>\n",
       "      <td>2018-En-03332</td>\n",
       "      <td>Be happy. Be confident. Be kind.\\n\\n #KissablesLoveSMShopmag\\nAllOutDenimFor KISSMARC</td>\n",
       "      <td>joy</td>\n",
       "      <td>0.661</td>\n",
       "      <td>0</td>\n",
       "    </tr>\n",
       "    <tr>\n",
       "      <th>1</th>\n",
       "      <td>1</td>\n",
       "      <td>2018-En-01146</td>\n",
       "      <td>@queenjlouise @mamaw_gereck awe thanks 😊</td>\n",
       "      <td>fear</td>\n",
       "      <td>0.089</td>\n",
       "      <td>0</td>\n",
       "    </tr>\n",
       "  </tbody>\n",
       "</table>\n",
       "</div>"
      ],
      "text/plain": [
       "   Unnamed: 0             ID  ... Intensity Score target\n",
       "0  0           2018-En-03332  ...  0.661           0    \n",
       "1  1           2018-En-01146  ...  0.089           0    \n",
       "\n",
       "[2 rows x 6 columns]"
      ]
     },
     "execution_count": 8,
     "metadata": {
      "tags": []
     },
     "output_type": "execute_result"
    }
   ],
   "source": [
    "df0.head(2)"
   ]
  },
  {
   "cell_type": "code",
   "execution_count": null,
   "metadata": {
    "colab": {
     "base_uri": "https://localhost:8080/",
     "height": 162
    },
    "id": "ZDvvmq9469Eo",
    "outputId": "998ecd58-6c2a-43f6-dc32-25d7ac4a0201"
   },
   "outputs": [
    {
     "data": {
      "text/html": [
       "<div>\n",
       "<style scoped>\n",
       "    .dataframe tbody tr th:only-of-type {\n",
       "        vertical-align: middle;\n",
       "    }\n",
       "\n",
       "    .dataframe tbody tr th {\n",
       "        vertical-align: top;\n",
       "    }\n",
       "\n",
       "    .dataframe thead th {\n",
       "        text-align: right;\n",
       "    }\n",
       "</style>\n",
       "<table border=\"1\" class=\"dataframe\">\n",
       "  <thead>\n",
       "    <tr style=\"text-align: right;\">\n",
       "      <th></th>\n",
       "      <th>Unnamed: 0</th>\n",
       "      <th>ID</th>\n",
       "      <th>Tweet</th>\n",
       "      <th>Affect Dimension</th>\n",
       "      <th>Intensity Score</th>\n",
       "      <th>target</th>\n",
       "    </tr>\n",
       "  </thead>\n",
       "  <tbody>\n",
       "    <tr>\n",
       "      <th>0</th>\n",
       "      <td>0</td>\n",
       "      <td>2018-En-03332</td>\n",
       "      <td>Be happy. Be confident. Be kind.\\n\\n #KissablesLoveSMShopmag\\nAllOutDenimFor KISSMARC</td>\n",
       "      <td>joy</td>\n",
       "      <td>0.661</td>\n",
       "      <td>0</td>\n",
       "    </tr>\n",
       "    <tr>\n",
       "      <th>1</th>\n",
       "      <td>1</td>\n",
       "      <td>2018-En-01146</td>\n",
       "      <td>@queenjlouise @mamaw_gereck awe thanks 😊</td>\n",
       "      <td>fear</td>\n",
       "      <td>0.089</td>\n",
       "      <td>0</td>\n",
       "    </tr>\n",
       "  </tbody>\n",
       "</table>\n",
       "</div>"
      ],
      "text/plain": [
       "   Unnamed: 0             ID  ... Intensity Score target\n",
       "0  0           2018-En-03332  ...  0.661           0    \n",
       "1  1           2018-En-01146  ...  0.089           0    \n",
       "\n",
       "[2 rows x 6 columns]"
      ]
     },
     "execution_count": 9,
     "metadata": {
      "tags": []
     },
     "output_type": "execute_result"
    }
   ],
   "source": [
    "df0.head(2)"
   ]
  },
  {
   "cell_type": "code",
   "execution_count": null,
   "metadata": {
    "colab": {
     "base_uri": "https://localhost:8080/",
     "height": 468
    },
    "id": "5xlu91bf69Ep",
    "outputId": "f0ecece9-d10f-4a97-e362-8c5419aa463e"
   },
   "outputs": [
    {
     "data": {
      "text/html": [
       "<div>\n",
       "<style scoped>\n",
       "    .dataframe tbody tr th:only-of-type {\n",
       "        vertical-align: middle;\n",
       "    }\n",
       "\n",
       "    .dataframe tbody tr th {\n",
       "        vertical-align: top;\n",
       "    }\n",
       "\n",
       "    .dataframe thead th {\n",
       "        text-align: right;\n",
       "    }\n",
       "</style>\n",
       "<table border=\"1\" class=\"dataframe\">\n",
       "  <thead>\n",
       "    <tr style=\"text-align: right;\">\n",
       "      <th></th>\n",
       "      <th>Unnamed: 0</th>\n",
       "      <th>id</th>\n",
       "      <th>conversation_id</th>\n",
       "      <th>date</th>\n",
       "      <th>username</th>\n",
       "      <th>tweet_processed</th>\n",
       "      <th>hashtags</th>\n",
       "      <th>tweet_original</th>\n",
       "      <th>target</th>\n",
       "    </tr>\n",
       "  </thead>\n",
       "  <tbody>\n",
       "    <tr>\n",
       "      <th>0</th>\n",
       "      <td>1</td>\n",
       "      <td>1.163050e+18</td>\n",
       "      <td>1.163050e+18</td>\n",
       "      <td>8/18/2019</td>\n",
       "      <td>lowerdepression</td>\n",
       "      <td>mood can be caused by infectious diseases, nutritional deficiencies, neurological conditions, and physiological problems.</td>\n",
       "      <td>['#depressed']</td>\n",
       "      <td>#Depressed mood can be caused by infectious diseases, nutritional deficiencies, neurological conditions, and physiological problems.</td>\n",
       "      <td>0</td>\n",
       "    </tr>\n",
       "    <tr>\n",
       "      <th>1</th>\n",
       "      <td>6</td>\n",
       "      <td>1.163030e+18</td>\n",
       "      <td>1.163030e+18</td>\n",
       "      <td>8/18/2019</td>\n",
       "      <td>chrisbontheweb</td>\n",
       "      <td>With all of this unnessary  family drama, I feel like moving far away and starting over again. From one thing to another I just feel . Hope I get through this</td>\n",
       "      <td>['#depressed']</td>\n",
       "      <td>With all of this unnessary  family drama, I feel like moving far away and starting over again. From one thing to another I just feel #depressed. Hope I get through this</td>\n",
       "      <td>1</td>\n",
       "    </tr>\n",
       "  </tbody>\n",
       "</table>\n",
       "</div>"
      ],
      "text/plain": [
       "   Unnamed: 0  ...  target\n",
       "0  1           ...  0     \n",
       "1  6           ...  1     \n",
       "\n",
       "[2 rows x 9 columns]"
      ]
     },
     "execution_count": 10,
     "metadata": {
      "tags": []
     },
     "output_type": "execute_result"
    }
   ],
   "source": [
    "df1.head(2)"
   ]
  },
  {
   "cell_type": "code",
   "execution_count": null,
   "metadata": {
    "colab": {
     "base_uri": "https://localhost:8080/",
     "height": 420
    },
    "id": "9_i1R8pn69Ep",
    "outputId": "2ad7e696-1c83-4b26-956e-88a68d51ece0"
   },
   "outputs": [
    {
     "data": {
      "text/html": [
       "<div>\n",
       "<style scoped>\n",
       "    .dataframe tbody tr th:only-of-type {\n",
       "        vertical-align: middle;\n",
       "    }\n",
       "\n",
       "    .dataframe tbody tr th {\n",
       "        vertical-align: top;\n",
       "    }\n",
       "\n",
       "    .dataframe thead th {\n",
       "        text-align: right;\n",
       "    }\n",
       "</style>\n",
       "<table border=\"1\" class=\"dataframe\">\n",
       "  <thead>\n",
       "    <tr style=\"text-align: right;\">\n",
       "      <th></th>\n",
       "      <th>Unnamed: 0</th>\n",
       "      <th>id</th>\n",
       "      <th>conversation_id</th>\n",
       "      <th>date</th>\n",
       "      <th>username</th>\n",
       "      <th>tweet_processed</th>\n",
       "      <th>hashtags</th>\n",
       "      <th>tweet_original</th>\n",
       "      <th>target</th>\n",
       "    </tr>\n",
       "  </thead>\n",
       "  <tbody>\n",
       "    <tr>\n",
       "      <th>0</th>\n",
       "      <td>1681</td>\n",
       "      <td>1.160000e+18</td>\n",
       "      <td>1.160000e+18</td>\n",
       "      <td>8/17/2019</td>\n",
       "      <td>samplergal1</td>\n",
       "      <td>Looking for some beautiful images. Having a really crappy week, and need some support. . Post some great beauty.  Thank you.</td>\n",
       "      <td>['#depression']</td>\n",
       "      <td>Looking for some beautiful images. Having a really crappy week, and need some support. #depression. Post some great beauty.  Thank you.</td>\n",
       "      <td>1</td>\n",
       "    </tr>\n",
       "    <tr>\n",
       "      <th>1</th>\n",
       "      <td>1709</td>\n",
       "      <td>1.160000e+18</td>\n",
       "      <td>1.160000e+18</td>\n",
       "      <td>8/17/2019</td>\n",
       "      <td>focusbalance</td>\n",
       "      <td>When teens feel down, there are ways they can cope with these feelings to avoid serious , such as make new friends or social connections and participate in sports or school activities. Call Focus &amp; Balance at 210-858-9980 to learn more and see how we can help.  pic.twitter.com/ydrYcTBD2r</td>\n",
       "      <td>['#depression']</td>\n",
       "      <td>When teens feel down, there are ways they can cope with these feelings to avoid serious #depression, such as make new friends or social connections and participate in sports or school activities. Call Focus &amp; Balance at 210-858-9980 to learn more and see how we can help.  pic.twitter.com/ydrYcTBD2r</td>\n",
       "      <td>0</td>\n",
       "    </tr>\n",
       "  </tbody>\n",
       "</table>\n",
       "</div>"
      ],
      "text/plain": [
       "   Unnamed: 0  ...  target\n",
       "0  1681        ...  1     \n",
       "1  1709        ...  0     \n",
       "\n",
       "[2 rows x 9 columns]"
      ]
     },
     "execution_count": 11,
     "metadata": {
      "tags": []
     },
     "output_type": "execute_result"
    }
   ],
   "source": [
    "df2.head(2)"
   ]
  },
  {
   "cell_type": "code",
   "execution_count": null,
   "metadata": {
    "colab": {
     "base_uri": "https://localhost:8080/",
     "height": 247
    },
    "id": "ayQ0DZi269Eq",
    "outputId": "c0697e50-cb3e-4fa4-86c7-3e7b3cd33978"
   },
   "outputs": [
    {
     "data": {
      "text/html": [
       "<div>\n",
       "<style scoped>\n",
       "    .dataframe tbody tr th:only-of-type {\n",
       "        vertical-align: middle;\n",
       "    }\n",
       "\n",
       "    .dataframe tbody tr th {\n",
       "        vertical-align: top;\n",
       "    }\n",
       "\n",
       "    .dataframe thead th {\n",
       "        text-align: right;\n",
       "    }\n",
       "</style>\n",
       "<table border=\"1\" class=\"dataframe\">\n",
       "  <thead>\n",
       "    <tr style=\"text-align: right;\">\n",
       "      <th></th>\n",
       "      <th>Unnamed: 0</th>\n",
       "      <th>id</th>\n",
       "      <th>conversation_id</th>\n",
       "      <th>date</th>\n",
       "      <th>username</th>\n",
       "      <th>tweet_processed</th>\n",
       "      <th>hashtags</th>\n",
       "      <th>tweet_original</th>\n",
       "      <th>target</th>\n",
       "    </tr>\n",
       "  </thead>\n",
       "  <tbody>\n",
       "    <tr>\n",
       "      <th>0</th>\n",
       "      <td>462</td>\n",
       "      <td>6.813310e+17</td>\n",
       "      <td>6.813310e+17</td>\n",
       "      <td>12/28/2015</td>\n",
       "      <td>siradjames</td>\n",
       "      <td>Why is tomorrow Monday???  &amp;  LOL</td>\n",
       "      <td>['#sad', '#depressed']</td>\n",
       "      <td>Why is tomorrow Monday??? #Sad &amp; #Depressed LOL</td>\n",
       "      <td>0</td>\n",
       "    </tr>\n",
       "    <tr>\n",
       "      <th>1</th>\n",
       "      <td>465</td>\n",
       "      <td>6.813230e+17</td>\n",
       "      <td>6.813230e+17</td>\n",
       "      <td>12/28/2015</td>\n",
       "      <td>angel_is_dead</td>\n",
       "      <td>I feel like I'm annoying like Always�</td>\n",
       "      <td>['#depressed', '#selfhate']</td>\n",
       "      <td>I feel like I'm annoying like Always� #depressed #selfhate</td>\n",
       "      <td>1</td>\n",
       "    </tr>\n",
       "  </tbody>\n",
       "</table>\n",
       "</div>"
      ],
      "text/plain": [
       "   Unnamed: 0  ...  target\n",
       "0  462         ...  0     \n",
       "1  465         ...  1     \n",
       "\n",
       "[2 rows x 9 columns]"
      ]
     },
     "execution_count": 12,
     "metadata": {
      "tags": []
     },
     "output_type": "execute_result"
    }
   ],
   "source": [
    "df3.head(2)"
   ]
  },
  {
   "cell_type": "code",
   "execution_count": null,
   "metadata": {
    "colab": {
     "base_uri": "https://localhost:8080/",
     "height": 301
    },
    "id": "IM_8v2Bt69Eq",
    "outputId": "4bc0f839-fa7e-4d73-e1b4-2cd308b1203f"
   },
   "outputs": [
    {
     "data": {
      "text/html": [
       "<div>\n",
       "<style scoped>\n",
       "    .dataframe tbody tr th:only-of-type {\n",
       "        vertical-align: middle;\n",
       "    }\n",
       "\n",
       "    .dataframe tbody tr th {\n",
       "        vertical-align: top;\n",
       "    }\n",
       "\n",
       "    .dataframe thead th {\n",
       "        text-align: right;\n",
       "    }\n",
       "</style>\n",
       "<table border=\"1\" class=\"dataframe\">\n",
       "  <thead>\n",
       "    <tr style=\"text-align: right;\">\n",
       "      <th></th>\n",
       "      <th>Unnamed: 0</th>\n",
       "      <th>id</th>\n",
       "      <th>conversation_id</th>\n",
       "      <th>date</th>\n",
       "      <th>username</th>\n",
       "      <th>tweet_processed</th>\n",
       "      <th>hashtags</th>\n",
       "      <th>tweet_original</th>\n",
       "      <th>target</th>\n",
       "    </tr>\n",
       "  </thead>\n",
       "  <tbody>\n",
       "    <tr>\n",
       "      <th>0</th>\n",
       "      <td>0</td>\n",
       "      <td>8.150000e+17</td>\n",
       "      <td>8.150000e+17</td>\n",
       "      <td>12/31/2016</td>\n",
       "      <td>sterlovesfood</td>\n",
       "      <td>2016 was the best year so far</td>\n",
       "      <td>['#salty', '#depressed']</td>\n",
       "      <td>2016 was the best year so far  #salty #depressed</td>\n",
       "      <td>0</td>\n",
       "    </tr>\n",
       "    <tr>\n",
       "      <th>1</th>\n",
       "      <td>7</td>\n",
       "      <td>8.150000e+17</td>\n",
       "      <td>8.150000e+17</td>\n",
       "      <td>12/31/2016</td>\n",
       "      <td>shannonmburke91</td>\n",
       "      <td>So over new years think I'm just going to sleep into the new year.</td>\n",
       "      <td>['#depressed', '#over2016']</td>\n",
       "      <td>So over new years think I'm just going to sleep into the new year. #depressed #over2016</td>\n",
       "      <td>0</td>\n",
       "    </tr>\n",
       "  </tbody>\n",
       "</table>\n",
       "</div>"
      ],
      "text/plain": [
       "   Unnamed: 0  ...  target\n",
       "0  0           ...  0     \n",
       "1  7           ...  0     \n",
       "\n",
       "[2 rows x 9 columns]"
      ]
     },
     "execution_count": 13,
     "metadata": {
      "tags": []
     },
     "output_type": "execute_result"
    }
   ],
   "source": [
    "df4.head(2)"
   ]
  },
  {
   "cell_type": "code",
   "execution_count": null,
   "metadata": {
    "colab": {
     "base_uri": "https://localhost:8080/",
     "height": 369
    },
    "id": "U924ImyA69Er",
    "outputId": "5315cbce-4e73-46ed-92f8-d4c6573518a4"
   },
   "outputs": [
    {
     "data": {
      "text/html": [
       "<div>\n",
       "<style scoped>\n",
       "    .dataframe tbody tr th:only-of-type {\n",
       "        vertical-align: middle;\n",
       "    }\n",
       "\n",
       "    .dataframe tbody tr th {\n",
       "        vertical-align: top;\n",
       "    }\n",
       "\n",
       "    .dataframe thead th {\n",
       "        text-align: right;\n",
       "    }\n",
       "</style>\n",
       "<table border=\"1\" class=\"dataframe\">\n",
       "  <thead>\n",
       "    <tr style=\"text-align: right;\">\n",
       "      <th></th>\n",
       "      <th>Unnamed: 0</th>\n",
       "      <th>id</th>\n",
       "      <th>conversation_id</th>\n",
       "      <th>date</th>\n",
       "      <th>username</th>\n",
       "      <th>tweet_processed</th>\n",
       "      <th>hashtags</th>\n",
       "      <th>tweet_original</th>\n",
       "      <th>target</th>\n",
       "    </tr>\n",
       "  </thead>\n",
       "  <tbody>\n",
       "    <tr>\n",
       "      <th>0</th>\n",
       "      <td>1979</td>\n",
       "      <td>8.149690e+17</td>\n",
       "      <td>8.149690e+17</td>\n",
       "      <td>12/30/2016</td>\n",
       "      <td>nicosantana83</td>\n",
       "      <td>On topic of famous people , apparently stuff needs to be put in place for mental illness. What about non famous people</td>\n",
       "      <td>['#depression']</td>\n",
       "      <td>On topic of famous people , apparently stuff needs to be put in place for mental illness. What about non famous people #depression</td>\n",
       "      <td>0</td>\n",
       "    </tr>\n",
       "    <tr>\n",
       "      <th>1</th>\n",
       "      <td>1985</td>\n",
       "      <td>8.149660e+17</td>\n",
       "      <td>8.149660e+17</td>\n",
       "      <td>12/30/2016</td>\n",
       "      <td>ketaminesavedme</td>\n",
       "      <td>Tripped hard today! This is promising!</td>\n",
       "      <td>['#ketamine', '#depression', '#bipolar']</td>\n",
       "      <td>Tripped hard today! This is promising! #ketamine #depression #bipolar</td>\n",
       "      <td>1</td>\n",
       "    </tr>\n",
       "  </tbody>\n",
       "</table>\n",
       "</div>"
      ],
      "text/plain": [
       "   Unnamed: 0  ...  target\n",
       "0  1979        ...  0     \n",
       "1  1985        ...  1     \n",
       "\n",
       "[2 rows x 9 columns]"
      ]
     },
     "execution_count": 14,
     "metadata": {
      "tags": []
     },
     "output_type": "execute_result"
    }
   ],
   "source": [
    "df5.head(2)"
   ]
  },
  {
   "cell_type": "code",
   "execution_count": null,
   "metadata": {
    "colab": {
     "base_uri": "https://localhost:8080/",
     "height": 247
    },
    "id": "nep_09m069Er",
    "outputId": "395bf09f-acef-4522-8227-2eb22b3d9ff7"
   },
   "outputs": [
    {
     "data": {
      "text/html": [
       "<div>\n",
       "<style scoped>\n",
       "    .dataframe tbody tr th:only-of-type {\n",
       "        vertical-align: middle;\n",
       "    }\n",
       "\n",
       "    .dataframe tbody tr th {\n",
       "        vertical-align: top;\n",
       "    }\n",
       "\n",
       "    .dataframe thead th {\n",
       "        text-align: right;\n",
       "    }\n",
       "</style>\n",
       "<table border=\"1\" class=\"dataframe\">\n",
       "  <thead>\n",
       "    <tr style=\"text-align: right;\">\n",
       "      <th></th>\n",
       "      <th>Unnamed: 0</th>\n",
       "      <th>id</th>\n",
       "      <th>conversation_id</th>\n",
       "      <th>date</th>\n",
       "      <th>username</th>\n",
       "      <th>tweet_processed</th>\n",
       "      <th>hashtags</th>\n",
       "      <th>tweet_original</th>\n",
       "      <th>target</th>\n",
       "    </tr>\n",
       "  </thead>\n",
       "  <tbody>\n",
       "    <tr>\n",
       "      <th>0</th>\n",
       "      <td>462</td>\n",
       "      <td>6.813310e+17</td>\n",
       "      <td>6.813310e+17</td>\n",
       "      <td>12/28/2015</td>\n",
       "      <td>siradjames</td>\n",
       "      <td>Why is tomorrow Monday???  &amp;  LOL</td>\n",
       "      <td>['#sad', '#depressed']</td>\n",
       "      <td>Why is tomorrow Monday??? #Sad &amp; #Depressed LOL</td>\n",
       "      <td>0</td>\n",
       "    </tr>\n",
       "    <tr>\n",
       "      <th>1</th>\n",
       "      <td>465</td>\n",
       "      <td>6.813230e+17</td>\n",
       "      <td>6.813230e+17</td>\n",
       "      <td>12/28/2015</td>\n",
       "      <td>angel_is_dead</td>\n",
       "      <td>I feel like I'm annoying like Always�</td>\n",
       "      <td>['#depressed', '#selfhate']</td>\n",
       "      <td>I feel like I'm annoying like Always� #depressed #selfhate</td>\n",
       "      <td>1</td>\n",
       "    </tr>\n",
       "  </tbody>\n",
       "</table>\n",
       "</div>"
      ],
      "text/plain": [
       "   Unnamed: 0  ...  target\n",
       "0  462         ...  0     \n",
       "1  465         ...  1     \n",
       "\n",
       "[2 rows x 9 columns]"
      ]
     },
     "execution_count": 15,
     "metadata": {
      "tags": []
     },
     "output_type": "execute_result"
    }
   ],
   "source": [
    "df3.head(2)"
   ]
  },
  {
   "cell_type": "code",
   "execution_count": null,
   "metadata": {
    "colab": {
     "base_uri": "https://localhost:8080/",
     "height": 530
    },
    "id": "evLEml7669Es",
    "outputId": "afbc3f4f-f95e-4e8e-b2df-9080189c15eb"
   },
   "outputs": [
    {
     "data": {
      "text/plain": [
       "[Text(0.5, 1.0, 'target distribution - df6')]"
      ]
     },
     "execution_count": 16,
     "metadata": {
      "tags": []
     },
     "output_type": "execute_result"
    },
    {
     "data": {
      "image/png": "[encoded data removed]",
      "text/plain": [
       "<Figure size 1080x576 with 6 Axes>"
      ]
     },
     "metadata": {
      "needs_background": "light",
      "tags": []
     },
     "output_type": "display_data"
    }
   ],
   "source": [
    "fig = plt.figure(figsize=(15,8))\n",
    "fig.subplots_adjust(hspace=0.4, wspace=0.4)\n",
    "\n",
    "ax1 = fig.add_subplot(2,3,1)\n",
    "sns.countplot(x='target', data=df1)\n",
    "ax1.set(title=\"target distribution - df1\")\n",
    "\n",
    "ax2 = fig.add_subplot(2,3,2)\n",
    "sns.countplot(x='target', data=df2)\n",
    "ax2.set(title=\"target distribution - df2\")\n",
    "\n",
    "ax3 = fig.add_subplot(2,3,3)\n",
    "sns.countplot(x='target', data=df3)\n",
    "ax3.set(title=\"target distribution - df3\")\n",
    "\n",
    "ax4 = fig.add_subplot(2,3,4)\n",
    "sns.countplot(x='target', data=df4)\n",
    "ax4.set(title=\"target distribution - df4\")\n",
    "\n",
    "ax5 = fig.add_subplot(2,3,5)\n",
    "sns.countplot(x='target', data=df5)\n",
    "ax5.set(title=\"target distribution - df5\")\n",
    "\n",
    "ax6 = fig.add_subplot(2,3,6)\n",
    "sns.countplot(x='target', data=df6)\n",
    "ax6.set(title=\"target distribution - df6\")"
   ]
  },
  {
   "cell_type": "code",
   "execution_count": null,
   "metadata": {
    "colab": {
     "base_uri": "https://localhost:8080/",
     "height": 241
    },
    "id": "NOXZxd-A69Et",
    "outputId": "7e75ac99-7c73-4de3-f453-385596d1da91"
   },
   "outputs": [
    {
     "data": {
      "image/png": "[encoded data removed]",
      "text/plain": [
       "<Figure size 360x216 with 1 Axes>"
      ]
     },
     "metadata": {
      "needs_background": "light",
      "tags": []
     },
     "output_type": "display_data"
    }
   ],
   "source": [
    "fig = plt.figure(figsize=(5,3))\n",
    "plt.title('distribution of non-depressive dataset')\n",
    "ax = sns.barplot(x=df0.target.unique(),y=df0.target.value_counts());\n",
    "ax.set(xlabel='Labels');"
   ]
  },
  {
   "cell_type": "markdown",
   "metadata": {
    "id": "TVKZLdAk69Et"
   },
   "source": [
    "**3. Standardise dataset format**"
   ]
  },
  {
   "cell_type": "code",
   "execution_count": null,
   "metadata": {
    "id": "W9PzFYSq69Et"
   },
   "outputs": [],
   "source": [
    "df0 = df0[['Tweet','target']].copy()\n",
    "\n",
    "df1 = df1[['tweet_processed','target']].copy()\n",
    "df2 = df2[['tweet_processed','target']].copy()\n",
    "df3 = df3[['tweet_processed','target']].copy()\n",
    "df4 = df4[['tweet_processed','target']].copy()\n",
    "df5 = df5[['tweet_processed','target']].copy()\n",
    "df6 = df6[['tweet_processed','target']].copy()"
   ]
  },
  {
   "cell_type": "code",
   "execution_count": null,
   "metadata": {
    "id": "B7aTJmjs69Eu"
   },
   "outputs": [],
   "source": [
    "df0 = df0.rename(columns = {\"Tweet\": \"tweet\"}) \n",
    "\n",
    "df1 = df1.rename(columns = {\"tweet_processed\": \"tweet\"}) \n",
    "df2 = df2.rename(columns = {\"tweet_processed\": \"tweet\"}) \n",
    "df3 = df3.rename(columns = {\"tweet_processed\": \"tweet\"}) \n",
    "df4 = df4.rename(columns = {\"tweet_processed\": \"tweet\"}) \n",
    "df5 = df5.rename(columns = {\"tweet_processed\": \"tweet\"}) \n",
    "df6 = df6.rename(columns = {\"tweet_processed\": \"tweet\"}) "
   ]
  },
  {
   "cell_type": "markdown",
   "metadata": {
    "id": "1LmzG6x_69Eu"
   },
   "source": [
    "let´s skep df1 and df2 for the time being, as the labels are a little inconsistent"
   ]
  },
  {
   "cell_type": "code",
   "execution_count": null,
   "metadata": {
    "id": "tyEOhhLr69Ev"
   },
   "outputs": [],
   "source": [
    "df_all = pd.concat([df0, df1, df2, df3, df4, df5, df6])"
   ]
  },
  {
   "cell_type": "code",
   "execution_count": null,
   "metadata": {
    "colab": {
     "base_uri": "https://localhost:8080/",
     "height": 410
    },
    "id": "A2Glscd_69Ev",
    "outputId": "855ea826-bc62-4335-db43-c9e3a244df1a"
   },
   "outputs": [
    {
     "data": {
      "text/html": [
       "<div>\n",
       "<style scoped>\n",
       "    .dataframe tbody tr th:only-of-type {\n",
       "        vertical-align: middle;\n",
       "    }\n",
       "\n",
       "    .dataframe tbody tr th {\n",
       "        vertical-align: top;\n",
       "    }\n",
       "\n",
       "    .dataframe thead th {\n",
       "        text-align: right;\n",
       "    }\n",
       "</style>\n",
       "<table border=\"1\" class=\"dataframe\">\n",
       "  <thead>\n",
       "    <tr style=\"text-align: right;\">\n",
       "      <th></th>\n",
       "      <th>tweet</th>\n",
       "      <th>target</th>\n",
       "    </tr>\n",
       "  </thead>\n",
       "  <tbody>\n",
       "    <tr>\n",
       "      <th>0</th>\n",
       "      <td>Is @Tonysuniverse on Fourth of July holiday in his mind?\\nOr is the heatwave getting to him, ha?\\nGOTTA use your mic! 😀\\nThanks for the giggle!</td>\n",
       "      <td>0</td>\n",
       "    </tr>\n",
       "    <tr>\n",
       "      <th>1</th>\n",
       "      <td>The sad thing when you lie all the time is that when you say the truth, it always sounds like a lie even to yourself.</td>\n",
       "      <td>0</td>\n",
       "    </tr>\n",
       "    <tr>\n",
       "      <th>2</th>\n",
       "      <td>@CNN @cnnbrk what is the #FakeNews of the day? Need my #laughter to start my day. @foxandfriends @realDonaldTrump @kilmeade @PeteHegseth</td>\n",
       "      <td>0</td>\n",
       "    </tr>\n",
       "    <tr>\n",
       "      <th>3</th>\n",
       "      <td>3rd step to overcoming  and  is to realise that you need to change something. Do the same things, get the same results</td>\n",
       "      <td>0</td>\n",
       "    </tr>\n",
       "    <tr>\n",
       "      <th>4</th>\n",
       "      <td>Up bright and early for class today 😂👌🏾 I can't miss nane nother one</td>\n",
       "      <td>0</td>\n",
       "    </tr>\n",
       "    <tr>\n",
       "      <th>5</th>\n",
       "      <td>�?I Don't Love You Anymore - ANOHNI</td>\n",
       "      <td>0</td>\n",
       "    </tr>\n",
       "    <tr>\n",
       "      <th>6</th>\n",
       "      <td>If you're so  that you had a dream you died and then you were annoyed when you woke up, clap your hands! ??��??��??��??��??��??��</td>\n",
       "      <td>0</td>\n",
       "    </tr>\n",
       "    <tr>\n",
       "      <th>7</th>\n",
       "      <td>Ground control to Captain Tom, eclipse was mind blowing #solareclipse2017</td>\n",
       "      <td>0</td>\n",
       "    </tr>\n",
       "    <tr>\n",
       "      <th>8</th>\n",
       "      <td>a neend in need is a neend indeed</td>\n",
       "      <td>0</td>\n",
       "    </tr>\n",
       "    <tr>\n",
       "      <th>9</th>\n",
       "      <td>Lately - nothing has been going right .</td>\n",
       "      <td>1</td>\n",
       "    </tr>\n",
       "  </tbody>\n",
       "</table>\n",
       "</div>"
      ],
      "text/plain": [
       "                                                                                                                                             tweet  target\n",
       "0  Is @Tonysuniverse on Fourth of July holiday in his mind?\\nOr is the heatwave getting to him, ha?\\nGOTTA use your mic! 😀\\nThanks for the giggle!  0     \n",
       "1  The sad thing when you lie all the time is that when you say the truth, it always sounds like a lie even to yourself.                            0     \n",
       "2  @CNN @cnnbrk what is the #FakeNews of the day? Need my #laughter to start my day. @foxandfriends @realDonaldTrump @kilmeade @PeteHegseth         0     \n",
       "3  3rd step to overcoming  and  is to realise that you need to change something. Do the same things, get the same results                           0     \n",
       "4  Up bright and early for class today 😂👌🏾 I can't miss nane nother one                                                                             0     \n",
       "5  �?I Don't Love You Anymore - ANOHNI                                                                                                              0     \n",
       "6  If you're so  that you had a dream you died and then you were annoyed when you woke up, clap your hands! ??��??��??��??��??��??��                0     \n",
       "7  Ground control to Captain Tom, eclipse was mind blowing #solareclipse2017                                                                        0     \n",
       "8  a neend in need is a neend indeed                                                                                                                0     \n",
       "9  Lately - nothing has been going right .                                                                                                          1     "
      ]
     },
     "execution_count": 21,
     "metadata": {
      "tags": []
     },
     "output_type": "execute_result"
    }
   ],
   "source": [
    "df_all = df_all.sample(frac=1).reset_index(drop=True)\n",
    "df_all.head(10)"
   ]
  },
  {
   "cell_type": "code",
   "execution_count": null,
   "metadata": {
    "colab": {
     "base_uri": "https://localhost:8080/",
     "height": 241
    },
    "id": "aKYpZBnA69Ew",
    "outputId": "09ffeb91-e41e-436f-c364-8917e637d6d4"
   },
   "outputs": [
    {
     "data": {
      "image/png": "[encoded data removed]",
      "text/plain": [
       "<Figure size 360x216 with 1 Axes>"
      ]
     },
     "metadata": {
      "needs_background": "light",
      "tags": []
     },
     "output_type": "display_data"
    }
   ],
   "source": [
    "fig = plt.figure(figsize=(5,3))\n",
    "plt.title('general (non-depressive) dataset')\n",
    "ax = sns.barplot(x=df_all.target.unique(),y=df_all.target.value_counts());\n",
    "ax.set(xlabel='Labels');"
   ]
  },
  {
   "cell_type": "code",
   "execution_count": null,
   "metadata": {
    "id": "W6p-Vr03gJVw"
   },
   "outputs": [],
   "source": [
    "from sklearn.utils import resample"
   ]
  },
  {
   "cell_type": "code",
   "execution_count": null,
   "metadata": {
    "colab": {
     "base_uri": "https://localhost:8080/"
    },
    "id": "iBtcanZ3gJgv",
    "outputId": "d560c31e-f6c8-4bcb-8d68-4e42d9041937"
   },
   "outputs": [
    {
     "data": {
      "text/plain": [
       "1    843\n",
       "0    843\n",
       "Name: target, dtype: int64"
      ]
     },
     "execution_count": 31,
     "metadata": {
      "tags": []
     },
     "output_type": "execute_result"
    }
   ],
   "source": [
    "df_majority=df_all[df_all.target==0]\n",
    "df_minority=df_all[df_all.target==1]\n",
    "df_majority_downsampled = resample(df_majority,\n",
    "                                  replace=False,\n",
    "                                  n_samples=843,\n",
    "                                  random_state=123)\n",
    "df_downsampled = pd.concat([df_majority_downsampled, df_minority])\n",
    "df_downsampled.target.value_counts()"
   ]
  },
  {
   "cell_type": "code",
   "execution_count": null,
   "metadata": {
    "colab": {
     "base_uri": "https://localhost:8080/"
    },
    "id": "kZSNVjE369Ew",
    "outputId": "b7e20b8b-ba24-4bbf-f0b8-c4fd657c4530"
   },
   "outputs": [
    {
     "data": {
      "text/plain": [
       "0    2357\n",
       "1    843 \n",
       "Name: target, dtype: int64"
      ]
     },
     "execution_count": 24,
     "metadata": {
      "tags": []
     },
     "output_type": "execute_result"
    }
   ],
   "source": [
    "df_all.target.value_counts()"
   ]
  },
  {
   "cell_type": "code",
   "execution_count": null,
   "metadata": {
    "id": "FmgphPZx69Ex"
   },
   "outputs": [],
   "source": [
    "df_downsampled.to_csv(\"/content/drive/MyDrive/Dataset1/depression_data/tweets_combined.csv\")"
   ]
  },
  {
   "cell_type": "markdown",
   "metadata": {
    "id": "VDBoLoHyeTla"
   },
   "source": []
  },
  {
   "cell_type": "markdown",
   "metadata": {
    "id": "p0wPGm3H69Ex"
   },
   "source": [
    "## Conclusion:\n",
    "Even though the target is not balanced as there are more non-depressive data, we believe it covers a good range of depressive and non-depressive tweets and would be a good basis for developing a depression detection classifier"
   ]
  },
  {
   "cell_type": "code",
   "execution_count": null,
   "metadata": {
    "id": "3zSVScqB69Ex"
   },
   "outputs": [],
   "source": []
  }
 ],
 "metadata": {
  "colab": {
   "name": "2_combine_datasets.ipynb",
   "provenance": [],
   "toc_visible": true
  },
  "kernelspec": {
   "display_name": "Python 3 (ipykernel)",
   "language": "python",
   "name": "python3"
  },
  "language_info": {
   "codemirror_mode": {
    "name": "ipython",
    "version": 3
   },
   "file_extension": ".py",
   "mimetype": "text/x-python",
   "name": "python",
   "nbconvert_exporter": "python",
   "pygments_lexer": "ipython3",
   "version": "3.9.5"
  }
 },
 "nbformat": 4,
 "nbformat_minor": 1
}
